{
  "cells": [
    {
      "cell_type": "code",
      "execution_count": null,
      "metadata": {
        "colab": {
          "base_uri": "https://localhost:8080/"
        },
        "id": "KYXDJIA_nTxq",
        "outputId": "5352fda3-d564-4d24-b65f-f2fb52b91301"
      },
      "outputs": [
        {
          "output_type": "stream",
          "name": "stdout",
          "text": [
            "Requirement already satisfied: deap in /usr/local/lib/python3.11/dist-packages (1.4.2)\n",
            "Requirement already satisfied: numpy in /usr/local/lib/python3.11/dist-packages (from deap) (1.26.4)\n"
          ]
        }
      ],
      "source": [
        "! pip install deap"
      ]
    },
    {
      "cell_type": "code",
      "execution_count": null,
      "metadata": {
        "id": "6YTdMIUmIEDb"
      },
      "outputs": [],
      "source": [
        "%matplotlib inline\n",
        "# Pandas is a nice utilitiy that enables some easy data manipulation, especially from a csv\n",
        "import pandas as pd\n",
        "# Numpy lets us work with arrays\n",
        "import numpy as np\n",
        "import random\n",
        "# Sklearn provides various modules with a common API\n",
        "from sklearn import svm, tree, neighbors, neural_network\n",
        "from sklearn.model_selection import train_test_split\n",
        "from sklearn.preprocessing import StandardScaler, LabelEncoder\n",
        "from sklearn.metrics import confusion_matrix, accuracy_score\n",
        "\n",
        "import operator\n",
        "import seaborn as sns\n",
        "import math\n",
        "import matplotlib.pyplot as plt"
      ]
    },
    {
      "cell_type": "code",
      "execution_count": null,
      "metadata": {
        "id": "wJBe0w9kIEDd",
        "colab": {
          "base_uri": "https://localhost:8080/",
          "height": 329
        },
        "outputId": "e62e236c-a47d-48bd-ef98-915e7bdc2d9a"
      },
      "outputs": [
        {
          "output_type": "error",
          "ename": "FileNotFoundError",
          "evalue": "[Errno 2] No such file or directory: 'train.csv'",
          "traceback": [
            "\u001b[0;31m---------------------------------------------------------------------------\u001b[0m",
            "\u001b[0;31mFileNotFoundError\u001b[0m                         Traceback (most recent call last)",
            "\u001b[0;32m<ipython-input-2-b235ce306cf3>\u001b[0m in \u001b[0;36m<cell line: 0>\u001b[0;34m()\u001b[0m\n\u001b[1;32m      1\u001b[0m \u001b[0;31m# Read in our csv files downloaded from Kaggle\u001b[0m\u001b[0;34m\u001b[0m\u001b[0;34m\u001b[0m\u001b[0m\n\u001b[0;32m----> 2\u001b[0;31m \u001b[0mtrain_data\u001b[0m \u001b[0;34m=\u001b[0m \u001b[0mpd\u001b[0m\u001b[0;34m.\u001b[0m\u001b[0mread_csv\u001b[0m\u001b[0;34m(\u001b[0m\u001b[0;34m'train.csv'\u001b[0m\u001b[0;34m)\u001b[0m\u001b[0;34m\u001b[0m\u001b[0;34m\u001b[0m\u001b[0m\n\u001b[0m\u001b[1;32m      3\u001b[0m \u001b[0mtest_data\u001b[0m \u001b[0;34m=\u001b[0m \u001b[0mpd\u001b[0m\u001b[0;34m.\u001b[0m\u001b[0mread_csv\u001b[0m\u001b[0;34m(\u001b[0m\u001b[0;34m'test.csv'\u001b[0m\u001b[0;34m)\u001b[0m\u001b[0;34m\u001b[0m\u001b[0;34m\u001b[0m\u001b[0m\n",
            "\u001b[0;32m/usr/local/lib/python3.11/dist-packages/pandas/io/parsers/readers.py\u001b[0m in \u001b[0;36mread_csv\u001b[0;34m(filepath_or_buffer, sep, delimiter, header, names, index_col, usecols, dtype, engine, converters, true_values, false_values, skipinitialspace, skiprows, skipfooter, nrows, na_values, keep_default_na, na_filter, verbose, skip_blank_lines, parse_dates, infer_datetime_format, keep_date_col, date_parser, date_format, dayfirst, cache_dates, iterator, chunksize, compression, thousands, decimal, lineterminator, quotechar, quoting, doublequote, escapechar, comment, encoding, encoding_errors, dialect, on_bad_lines, delim_whitespace, low_memory, memory_map, float_precision, storage_options, dtype_backend)\u001b[0m\n\u001b[1;32m   1024\u001b[0m     \u001b[0mkwds\u001b[0m\u001b[0;34m.\u001b[0m\u001b[0mupdate\u001b[0m\u001b[0;34m(\u001b[0m\u001b[0mkwds_defaults\u001b[0m\u001b[0;34m)\u001b[0m\u001b[0;34m\u001b[0m\u001b[0;34m\u001b[0m\u001b[0m\n\u001b[1;32m   1025\u001b[0m \u001b[0;34m\u001b[0m\u001b[0m\n\u001b[0;32m-> 1026\u001b[0;31m     \u001b[0;32mreturn\u001b[0m \u001b[0m_read\u001b[0m\u001b[0;34m(\u001b[0m\u001b[0mfilepath_or_buffer\u001b[0m\u001b[0;34m,\u001b[0m \u001b[0mkwds\u001b[0m\u001b[0;34m)\u001b[0m\u001b[0;34m\u001b[0m\u001b[0;34m\u001b[0m\u001b[0m\n\u001b[0m\u001b[1;32m   1027\u001b[0m \u001b[0;34m\u001b[0m\u001b[0m\n\u001b[1;32m   1028\u001b[0m \u001b[0;34m\u001b[0m\u001b[0m\n",
            "\u001b[0;32m/usr/local/lib/python3.11/dist-packages/pandas/io/parsers/readers.py\u001b[0m in \u001b[0;36m_read\u001b[0;34m(filepath_or_buffer, kwds)\u001b[0m\n\u001b[1;32m    618\u001b[0m \u001b[0;34m\u001b[0m\u001b[0m\n\u001b[1;32m    619\u001b[0m     \u001b[0;31m# Create the parser.\u001b[0m\u001b[0;34m\u001b[0m\u001b[0;34m\u001b[0m\u001b[0m\n\u001b[0;32m--> 620\u001b[0;31m     \u001b[0mparser\u001b[0m \u001b[0;34m=\u001b[0m \u001b[0mTextFileReader\u001b[0m\u001b[0;34m(\u001b[0m\u001b[0mfilepath_or_buffer\u001b[0m\u001b[0;34m,\u001b[0m \u001b[0;34m**\u001b[0m\u001b[0mkwds\u001b[0m\u001b[0;34m)\u001b[0m\u001b[0;34m\u001b[0m\u001b[0;34m\u001b[0m\u001b[0m\n\u001b[0m\u001b[1;32m    621\u001b[0m \u001b[0;34m\u001b[0m\u001b[0m\n\u001b[1;32m    622\u001b[0m     \u001b[0;32mif\u001b[0m \u001b[0mchunksize\u001b[0m \u001b[0;32mor\u001b[0m \u001b[0miterator\u001b[0m\u001b[0;34m:\u001b[0m\u001b[0;34m\u001b[0m\u001b[0;34m\u001b[0m\u001b[0m\n",
            "\u001b[0;32m/usr/local/lib/python3.11/dist-packages/pandas/io/parsers/readers.py\u001b[0m in \u001b[0;36m__init__\u001b[0;34m(self, f, engine, **kwds)\u001b[0m\n\u001b[1;32m   1618\u001b[0m \u001b[0;34m\u001b[0m\u001b[0m\n\u001b[1;32m   1619\u001b[0m         \u001b[0mself\u001b[0m\u001b[0;34m.\u001b[0m\u001b[0mhandles\u001b[0m\u001b[0;34m:\u001b[0m \u001b[0mIOHandles\u001b[0m \u001b[0;34m|\u001b[0m \u001b[0;32mNone\u001b[0m \u001b[0;34m=\u001b[0m \u001b[0;32mNone\u001b[0m\u001b[0;34m\u001b[0m\u001b[0;34m\u001b[0m\u001b[0m\n\u001b[0;32m-> 1620\u001b[0;31m         \u001b[0mself\u001b[0m\u001b[0;34m.\u001b[0m\u001b[0m_engine\u001b[0m \u001b[0;34m=\u001b[0m \u001b[0mself\u001b[0m\u001b[0;34m.\u001b[0m\u001b[0m_make_engine\u001b[0m\u001b[0;34m(\u001b[0m\u001b[0mf\u001b[0m\u001b[0;34m,\u001b[0m \u001b[0mself\u001b[0m\u001b[0;34m.\u001b[0m\u001b[0mengine\u001b[0m\u001b[0;34m)\u001b[0m\u001b[0;34m\u001b[0m\u001b[0;34m\u001b[0m\u001b[0m\n\u001b[0m\u001b[1;32m   1621\u001b[0m \u001b[0;34m\u001b[0m\u001b[0m\n\u001b[1;32m   1622\u001b[0m     \u001b[0;32mdef\u001b[0m \u001b[0mclose\u001b[0m\u001b[0;34m(\u001b[0m\u001b[0mself\u001b[0m\u001b[0;34m)\u001b[0m \u001b[0;34m->\u001b[0m \u001b[0;32mNone\u001b[0m\u001b[0;34m:\u001b[0m\u001b[0;34m\u001b[0m\u001b[0;34m\u001b[0m\u001b[0m\n",
            "\u001b[0;32m/usr/local/lib/python3.11/dist-packages/pandas/io/parsers/readers.py\u001b[0m in \u001b[0;36m_make_engine\u001b[0;34m(self, f, engine)\u001b[0m\n\u001b[1;32m   1878\u001b[0m                 \u001b[0;32mif\u001b[0m \u001b[0;34m\"b\"\u001b[0m \u001b[0;32mnot\u001b[0m \u001b[0;32min\u001b[0m \u001b[0mmode\u001b[0m\u001b[0;34m:\u001b[0m\u001b[0;34m\u001b[0m\u001b[0;34m\u001b[0m\u001b[0m\n\u001b[1;32m   1879\u001b[0m                     \u001b[0mmode\u001b[0m \u001b[0;34m+=\u001b[0m \u001b[0;34m\"b\"\u001b[0m\u001b[0;34m\u001b[0m\u001b[0;34m\u001b[0m\u001b[0m\n\u001b[0;32m-> 1880\u001b[0;31m             self.handles = get_handle(\n\u001b[0m\u001b[1;32m   1881\u001b[0m                 \u001b[0mf\u001b[0m\u001b[0;34m,\u001b[0m\u001b[0;34m\u001b[0m\u001b[0;34m\u001b[0m\u001b[0m\n\u001b[1;32m   1882\u001b[0m                 \u001b[0mmode\u001b[0m\u001b[0;34m,\u001b[0m\u001b[0;34m\u001b[0m\u001b[0;34m\u001b[0m\u001b[0m\n",
            "\u001b[0;32m/usr/local/lib/python3.11/dist-packages/pandas/io/common.py\u001b[0m in \u001b[0;36mget_handle\u001b[0;34m(path_or_buf, mode, encoding, compression, memory_map, is_text, errors, storage_options)\u001b[0m\n\u001b[1;32m    871\u001b[0m         \u001b[0;32mif\u001b[0m \u001b[0mioargs\u001b[0m\u001b[0;34m.\u001b[0m\u001b[0mencoding\u001b[0m \u001b[0;32mand\u001b[0m \u001b[0;34m\"b\"\u001b[0m \u001b[0;32mnot\u001b[0m \u001b[0;32min\u001b[0m \u001b[0mioargs\u001b[0m\u001b[0;34m.\u001b[0m\u001b[0mmode\u001b[0m\u001b[0;34m:\u001b[0m\u001b[0;34m\u001b[0m\u001b[0;34m\u001b[0m\u001b[0m\n\u001b[1;32m    872\u001b[0m             \u001b[0;31m# Encoding\u001b[0m\u001b[0;34m\u001b[0m\u001b[0;34m\u001b[0m\u001b[0m\n\u001b[0;32m--> 873\u001b[0;31m             handle = open(\n\u001b[0m\u001b[1;32m    874\u001b[0m                 \u001b[0mhandle\u001b[0m\u001b[0;34m,\u001b[0m\u001b[0;34m\u001b[0m\u001b[0;34m\u001b[0m\u001b[0m\n\u001b[1;32m    875\u001b[0m                 \u001b[0mioargs\u001b[0m\u001b[0;34m.\u001b[0m\u001b[0mmode\u001b[0m\u001b[0;34m,\u001b[0m\u001b[0;34m\u001b[0m\u001b[0;34m\u001b[0m\u001b[0m\n",
            "\u001b[0;31mFileNotFoundError\u001b[0m: [Errno 2] No such file or directory: 'train.csv'"
          ]
        }
      ],
      "source": [
        "# Read in our csv files downloaded from Kaggle\n",
        "train_data = pd.read_csv('train.csv')\n",
        "test_data = pd.read_csv('test.csv')"
      ]
    },
    {
      "cell_type": "code",
      "execution_count": null,
      "metadata": {
        "colab": {
          "base_uri": "https://localhost:8080/",
          "height": 206
        },
        "id": "zuCzCptJIEDd",
        "outputId": "74752e9b-bab7-4d66-9fd9-d0984827f245"
      },
      "outputs": [
        {
          "output_type": "execute_result",
          "data": {
            "text/plain": [
              "   PassengerId  Pclass                                          Name     Sex  \\\n",
              "0          892       3                              Kelly, Mr. James    male   \n",
              "1          893       3              Wilkes, Mrs. James (Ellen Needs)  female   \n",
              "2          894       2                     Myles, Mr. Thomas Francis    male   \n",
              "3          895       3                              Wirz, Mr. Albert    male   \n",
              "4          896       3  Hirvonen, Mrs. Alexander (Helga E Lindqvist)  female   \n",
              "\n",
              "    Age  SibSp  Parch   Ticket     Fare Cabin Embarked  \n",
              "0  34.5      0      0   330911   7.8292   NaN        Q  \n",
              "1  47.0      1      0   363272   7.0000   NaN        S  \n",
              "2  62.0      0      0   240276   9.6875   NaN        Q  \n",
              "3  27.0      0      0   315154   8.6625   NaN        S  \n",
              "4  22.0      1      1  3101298  12.2875   NaN        S  "
            ],
            "text/html": [
              "\n",
              "  <div id=\"df-274e25d0-3ddd-4141-962c-ae46fe52bbbd\" class=\"colab-df-container\">\n",
              "    <div>\n",
              "<style scoped>\n",
              "    .dataframe tbody tr th:only-of-type {\n",
              "        vertical-align: middle;\n",
              "    }\n",
              "\n",
              "    .dataframe tbody tr th {\n",
              "        vertical-align: top;\n",
              "    }\n",
              "\n",
              "    .dataframe thead th {\n",
              "        text-align: right;\n",
              "    }\n",
              "</style>\n",
              "<table border=\"1\" class=\"dataframe\">\n",
              "  <thead>\n",
              "    <tr style=\"text-align: right;\">\n",
              "      <th></th>\n",
              "      <th>PassengerId</th>\n",
              "      <th>Pclass</th>\n",
              "      <th>Name</th>\n",
              "      <th>Sex</th>\n",
              "      <th>Age</th>\n",
              "      <th>SibSp</th>\n",
              "      <th>Parch</th>\n",
              "      <th>Ticket</th>\n",
              "      <th>Fare</th>\n",
              "      <th>Cabin</th>\n",
              "      <th>Embarked</th>\n",
              "    </tr>\n",
              "  </thead>\n",
              "  <tbody>\n",
              "    <tr>\n",
              "      <th>0</th>\n",
              "      <td>892</td>\n",
              "      <td>3</td>\n",
              "      <td>Kelly, Mr. James</td>\n",
              "      <td>male</td>\n",
              "      <td>34.5</td>\n",
              "      <td>0</td>\n",
              "      <td>0</td>\n",
              "      <td>330911</td>\n",
              "      <td>7.8292</td>\n",
              "      <td>NaN</td>\n",
              "      <td>Q</td>\n",
              "    </tr>\n",
              "    <tr>\n",
              "      <th>1</th>\n",
              "      <td>893</td>\n",
              "      <td>3</td>\n",
              "      <td>Wilkes, Mrs. James (Ellen Needs)</td>\n",
              "      <td>female</td>\n",
              "      <td>47.0</td>\n",
              "      <td>1</td>\n",
              "      <td>0</td>\n",
              "      <td>363272</td>\n",
              "      <td>7.0000</td>\n",
              "      <td>NaN</td>\n",
              "      <td>S</td>\n",
              "    </tr>\n",
              "    <tr>\n",
              "      <th>2</th>\n",
              "      <td>894</td>\n",
              "      <td>2</td>\n",
              "      <td>Myles, Mr. Thomas Francis</td>\n",
              "      <td>male</td>\n",
              "      <td>62.0</td>\n",
              "      <td>0</td>\n",
              "      <td>0</td>\n",
              "      <td>240276</td>\n",
              "      <td>9.6875</td>\n",
              "      <td>NaN</td>\n",
              "      <td>Q</td>\n",
              "    </tr>\n",
              "    <tr>\n",
              "      <th>3</th>\n",
              "      <td>895</td>\n",
              "      <td>3</td>\n",
              "      <td>Wirz, Mr. Albert</td>\n",
              "      <td>male</td>\n",
              "      <td>27.0</td>\n",
              "      <td>0</td>\n",
              "      <td>0</td>\n",
              "      <td>315154</td>\n",
              "      <td>8.6625</td>\n",
              "      <td>NaN</td>\n",
              "      <td>S</td>\n",
              "    </tr>\n",
              "    <tr>\n",
              "      <th>4</th>\n",
              "      <td>896</td>\n",
              "      <td>3</td>\n",
              "      <td>Hirvonen, Mrs. Alexander (Helga E Lindqvist)</td>\n",
              "      <td>female</td>\n",
              "      <td>22.0</td>\n",
              "      <td>1</td>\n",
              "      <td>1</td>\n",
              "      <td>3101298</td>\n",
              "      <td>12.2875</td>\n",
              "      <td>NaN</td>\n",
              "      <td>S</td>\n",
              "    </tr>\n",
              "  </tbody>\n",
              "</table>\n",
              "</div>\n",
              "    <div class=\"colab-df-buttons\">\n",
              "\n",
              "  <div class=\"colab-df-container\">\n",
              "    <button class=\"colab-df-convert\" onclick=\"convertToInteractive('df-274e25d0-3ddd-4141-962c-ae46fe52bbbd')\"\n",
              "            title=\"Convert this dataframe to an interactive table.\"\n",
              "            style=\"display:none;\">\n",
              "\n",
              "  <svg xmlns=\"http://www.w3.org/2000/svg\" height=\"24px\" viewBox=\"0 -960 960 960\">\n",
              "    <path d=\"M120-120v-720h720v720H120Zm60-500h600v-160H180v160Zm220 220h160v-160H400v160Zm0 220h160v-160H400v160ZM180-400h160v-160H180v160Zm440 0h160v-160H620v160ZM180-180h160v-160H180v160Zm440 0h160v-160H620v160Z\"/>\n",
              "  </svg>\n",
              "    </button>\n",
              "\n",
              "  <style>\n",
              "    .colab-df-container {\n",
              "      display:flex;\n",
              "      gap: 12px;\n",
              "    }\n",
              "\n",
              "    .colab-df-convert {\n",
              "      background-color: #E8F0FE;\n",
              "      border: none;\n",
              "      border-radius: 50%;\n",
              "      cursor: pointer;\n",
              "      display: none;\n",
              "      fill: #1967D2;\n",
              "      height: 32px;\n",
              "      padding: 0 0 0 0;\n",
              "      width: 32px;\n",
              "    }\n",
              "\n",
              "    .colab-df-convert:hover {\n",
              "      background-color: #E2EBFA;\n",
              "      box-shadow: 0px 1px 2px rgba(60, 64, 67, 0.3), 0px 1px 3px 1px rgba(60, 64, 67, 0.15);\n",
              "      fill: #174EA6;\n",
              "    }\n",
              "\n",
              "    .colab-df-buttons div {\n",
              "      margin-bottom: 4px;\n",
              "    }\n",
              "\n",
              "    [theme=dark] .colab-df-convert {\n",
              "      background-color: #3B4455;\n",
              "      fill: #D2E3FC;\n",
              "    }\n",
              "\n",
              "    [theme=dark] .colab-df-convert:hover {\n",
              "      background-color: #434B5C;\n",
              "      box-shadow: 0px 1px 3px 1px rgba(0, 0, 0, 0.15);\n",
              "      filter: drop-shadow(0px 1px 2px rgba(0, 0, 0, 0.3));\n",
              "      fill: #FFFFFF;\n",
              "    }\n",
              "  </style>\n",
              "\n",
              "    <script>\n",
              "      const buttonEl =\n",
              "        document.querySelector('#df-274e25d0-3ddd-4141-962c-ae46fe52bbbd button.colab-df-convert');\n",
              "      buttonEl.style.display =\n",
              "        google.colab.kernel.accessAllowed ? 'block' : 'none';\n",
              "\n",
              "      async function convertToInteractive(key) {\n",
              "        const element = document.querySelector('#df-274e25d0-3ddd-4141-962c-ae46fe52bbbd');\n",
              "        const dataTable =\n",
              "          await google.colab.kernel.invokeFunction('convertToInteractive',\n",
              "                                                    [key], {});\n",
              "        if (!dataTable) return;\n",
              "\n",
              "        const docLinkHtml = 'Like what you see? Visit the ' +\n",
              "          '<a target=\"_blank\" href=https://colab.research.google.com/notebooks/data_table.ipynb>data table notebook</a>'\n",
              "          + ' to learn more about interactive tables.';\n",
              "        element.innerHTML = '';\n",
              "        dataTable['output_type'] = 'display_data';\n",
              "        await google.colab.output.renderOutput(dataTable, element);\n",
              "        const docLink = document.createElement('div');\n",
              "        docLink.innerHTML = docLinkHtml;\n",
              "        element.appendChild(docLink);\n",
              "      }\n",
              "    </script>\n",
              "  </div>\n",
              "\n",
              "\n",
              "<div id=\"df-e3997405-cd5b-4879-93b1-00d62ad1bab3\">\n",
              "  <button class=\"colab-df-quickchart\" onclick=\"quickchart('df-e3997405-cd5b-4879-93b1-00d62ad1bab3')\"\n",
              "            title=\"Suggest charts\"\n",
              "            style=\"display:none;\">\n",
              "\n",
              "<svg xmlns=\"http://www.w3.org/2000/svg\" height=\"24px\"viewBox=\"0 0 24 24\"\n",
              "     width=\"24px\">\n",
              "    <g>\n",
              "        <path d=\"M19 3H5c-1.1 0-2 .9-2 2v14c0 1.1.9 2 2 2h14c1.1 0 2-.9 2-2V5c0-1.1-.9-2-2-2zM9 17H7v-7h2v7zm4 0h-2V7h2v10zm4 0h-2v-4h2v4z\"/>\n",
              "    </g>\n",
              "</svg>\n",
              "  </button>\n",
              "\n",
              "<style>\n",
              "  .colab-df-quickchart {\n",
              "      --bg-color: #E8F0FE;\n",
              "      --fill-color: #1967D2;\n",
              "      --hover-bg-color: #E2EBFA;\n",
              "      --hover-fill-color: #174EA6;\n",
              "      --disabled-fill-color: #AAA;\n",
              "      --disabled-bg-color: #DDD;\n",
              "  }\n",
              "\n",
              "  [theme=dark] .colab-df-quickchart {\n",
              "      --bg-color: #3B4455;\n",
              "      --fill-color: #D2E3FC;\n",
              "      --hover-bg-color: #434B5C;\n",
              "      --hover-fill-color: #FFFFFF;\n",
              "      --disabled-bg-color: #3B4455;\n",
              "      --disabled-fill-color: #666;\n",
              "  }\n",
              "\n",
              "  .colab-df-quickchart {\n",
              "    background-color: var(--bg-color);\n",
              "    border: none;\n",
              "    border-radius: 50%;\n",
              "    cursor: pointer;\n",
              "    display: none;\n",
              "    fill: var(--fill-color);\n",
              "    height: 32px;\n",
              "    padding: 0;\n",
              "    width: 32px;\n",
              "  }\n",
              "\n",
              "  .colab-df-quickchart:hover {\n",
              "    background-color: var(--hover-bg-color);\n",
              "    box-shadow: 0 1px 2px rgba(60, 64, 67, 0.3), 0 1px 3px 1px rgba(60, 64, 67, 0.15);\n",
              "    fill: var(--button-hover-fill-color);\n",
              "  }\n",
              "\n",
              "  .colab-df-quickchart-complete:disabled,\n",
              "  .colab-df-quickchart-complete:disabled:hover {\n",
              "    background-color: var(--disabled-bg-color);\n",
              "    fill: var(--disabled-fill-color);\n",
              "    box-shadow: none;\n",
              "  }\n",
              "\n",
              "  .colab-df-spinner {\n",
              "    border: 2px solid var(--fill-color);\n",
              "    border-color: transparent;\n",
              "    border-bottom-color: var(--fill-color);\n",
              "    animation:\n",
              "      spin 1s steps(1) infinite;\n",
              "  }\n",
              "\n",
              "  @keyframes spin {\n",
              "    0% {\n",
              "      border-color: transparent;\n",
              "      border-bottom-color: var(--fill-color);\n",
              "      border-left-color: var(--fill-color);\n",
              "    }\n",
              "    20% {\n",
              "      border-color: transparent;\n",
              "      border-left-color: var(--fill-color);\n",
              "      border-top-color: var(--fill-color);\n",
              "    }\n",
              "    30% {\n",
              "      border-color: transparent;\n",
              "      border-left-color: var(--fill-color);\n",
              "      border-top-color: var(--fill-color);\n",
              "      border-right-color: var(--fill-color);\n",
              "    }\n",
              "    40% {\n",
              "      border-color: transparent;\n",
              "      border-right-color: var(--fill-color);\n",
              "      border-top-color: var(--fill-color);\n",
              "    }\n",
              "    60% {\n",
              "      border-color: transparent;\n",
              "      border-right-color: var(--fill-color);\n",
              "    }\n",
              "    80% {\n",
              "      border-color: transparent;\n",
              "      border-right-color: var(--fill-color);\n",
              "      border-bottom-color: var(--fill-color);\n",
              "    }\n",
              "    90% {\n",
              "      border-color: transparent;\n",
              "      border-bottom-color: var(--fill-color);\n",
              "    }\n",
              "  }\n",
              "</style>\n",
              "\n",
              "  <script>\n",
              "    async function quickchart(key) {\n",
              "      const quickchartButtonEl =\n",
              "        document.querySelector('#' + key + ' button');\n",
              "      quickchartButtonEl.disabled = true;  // To prevent multiple clicks.\n",
              "      quickchartButtonEl.classList.add('colab-df-spinner');\n",
              "      try {\n",
              "        const charts = await google.colab.kernel.invokeFunction(\n",
              "            'suggestCharts', [key], {});\n",
              "      } catch (error) {\n",
              "        console.error('Error during call to suggestCharts:', error);\n",
              "      }\n",
              "      quickchartButtonEl.classList.remove('colab-df-spinner');\n",
              "      quickchartButtonEl.classList.add('colab-df-quickchart-complete');\n",
              "    }\n",
              "    (() => {\n",
              "      let quickchartButtonEl =\n",
              "        document.querySelector('#df-e3997405-cd5b-4879-93b1-00d62ad1bab3 button');\n",
              "      quickchartButtonEl.style.display =\n",
              "        google.colab.kernel.accessAllowed ? 'block' : 'none';\n",
              "    })();\n",
              "  </script>\n",
              "</div>\n",
              "\n",
              "    </div>\n",
              "  </div>\n"
            ],
            "application/vnd.google.colaboratory.intrinsic+json": {
              "type": "dataframe",
              "repr_error": "Out of range float values are not JSON compliant: nan"
            }
          },
          "metadata": {},
          "execution_count": 60
        }
      ],
      "source": [
        "# We can use .head() to get just the first few rows of the data.\n",
        "test_data.head()\n",
        "\n",
        "# Note how the notebook nicely displays the output for us"
      ]
    },
    {
      "cell_type": "code",
      "execution_count": null,
      "metadata": {
        "colab": {
          "base_uri": "https://localhost:8080/",
          "height": 206
        },
        "id": "IyMDuph1IEDe",
        "outputId": "32003e5b-9764-43ff-b1f3-014b80040300"
      },
      "outputs": [
        {
          "output_type": "execute_result",
          "data": {
            "text/plain": [
              "   PassengerId  Pclass                                          Name     Sex  \\\n",
              "0          892       3                              Kelly, Mr. James    male   \n",
              "1          893       3              Wilkes, Mrs. James (Ellen Needs)  female   \n",
              "2          894       2                     Myles, Mr. Thomas Francis    male   \n",
              "3          895       3                              Wirz, Mr. Albert    male   \n",
              "4          896       3  Hirvonen, Mrs. Alexander (Helga E Lindqvist)  female   \n",
              "\n",
              "    Age  SibSp  Parch   Ticket     Fare Cabin Embarked  \n",
              "0  34.5      0      0   330911   7.8292   NaN        Q  \n",
              "1  47.0      1      0   363272   7.0000   NaN        S  \n",
              "2  62.0      0      0   240276   9.6875   NaN        Q  \n",
              "3  27.0      0      0   315154   8.6625   NaN        S  \n",
              "4  22.0      1      1  3101298  12.2875   NaN        S  "
            ],
            "text/html": [
              "\n",
              "  <div id=\"df-84fd804b-adfd-4b8d-8595-56583c3441ae\" class=\"colab-df-container\">\n",
              "    <div>\n",
              "<style scoped>\n",
              "    .dataframe tbody tr th:only-of-type {\n",
              "        vertical-align: middle;\n",
              "    }\n",
              "\n",
              "    .dataframe tbody tr th {\n",
              "        vertical-align: top;\n",
              "    }\n",
              "\n",
              "    .dataframe thead th {\n",
              "        text-align: right;\n",
              "    }\n",
              "</style>\n",
              "<table border=\"1\" class=\"dataframe\">\n",
              "  <thead>\n",
              "    <tr style=\"text-align: right;\">\n",
              "      <th></th>\n",
              "      <th>PassengerId</th>\n",
              "      <th>Pclass</th>\n",
              "      <th>Name</th>\n",
              "      <th>Sex</th>\n",
              "      <th>Age</th>\n",
              "      <th>SibSp</th>\n",
              "      <th>Parch</th>\n",
              "      <th>Ticket</th>\n",
              "      <th>Fare</th>\n",
              "      <th>Cabin</th>\n",
              "      <th>Embarked</th>\n",
              "    </tr>\n",
              "  </thead>\n",
              "  <tbody>\n",
              "    <tr>\n",
              "      <th>0</th>\n",
              "      <td>892</td>\n",
              "      <td>3</td>\n",
              "      <td>Kelly, Mr. James</td>\n",
              "      <td>male</td>\n",
              "      <td>34.5</td>\n",
              "      <td>0</td>\n",
              "      <td>0</td>\n",
              "      <td>330911</td>\n",
              "      <td>7.8292</td>\n",
              "      <td>NaN</td>\n",
              "      <td>Q</td>\n",
              "    </tr>\n",
              "    <tr>\n",
              "      <th>1</th>\n",
              "      <td>893</td>\n",
              "      <td>3</td>\n",
              "      <td>Wilkes, Mrs. James (Ellen Needs)</td>\n",
              "      <td>female</td>\n",
              "      <td>47.0</td>\n",
              "      <td>1</td>\n",
              "      <td>0</td>\n",
              "      <td>363272</td>\n",
              "      <td>7.0000</td>\n",
              "      <td>NaN</td>\n",
              "      <td>S</td>\n",
              "    </tr>\n",
              "    <tr>\n",
              "      <th>2</th>\n",
              "      <td>894</td>\n",
              "      <td>2</td>\n",
              "      <td>Myles, Mr. Thomas Francis</td>\n",
              "      <td>male</td>\n",
              "      <td>62.0</td>\n",
              "      <td>0</td>\n",
              "      <td>0</td>\n",
              "      <td>240276</td>\n",
              "      <td>9.6875</td>\n",
              "      <td>NaN</td>\n",
              "      <td>Q</td>\n",
              "    </tr>\n",
              "    <tr>\n",
              "      <th>3</th>\n",
              "      <td>895</td>\n",
              "      <td>3</td>\n",
              "      <td>Wirz, Mr. Albert</td>\n",
              "      <td>male</td>\n",
              "      <td>27.0</td>\n",
              "      <td>0</td>\n",
              "      <td>0</td>\n",
              "      <td>315154</td>\n",
              "      <td>8.6625</td>\n",
              "      <td>NaN</td>\n",
              "      <td>S</td>\n",
              "    </tr>\n",
              "    <tr>\n",
              "      <th>4</th>\n",
              "      <td>896</td>\n",
              "      <td>3</td>\n",
              "      <td>Hirvonen, Mrs. Alexander (Helga E Lindqvist)</td>\n",
              "      <td>female</td>\n",
              "      <td>22.0</td>\n",
              "      <td>1</td>\n",
              "      <td>1</td>\n",
              "      <td>3101298</td>\n",
              "      <td>12.2875</td>\n",
              "      <td>NaN</td>\n",
              "      <td>S</td>\n",
              "    </tr>\n",
              "  </tbody>\n",
              "</table>\n",
              "</div>\n",
              "    <div class=\"colab-df-buttons\">\n",
              "\n",
              "  <div class=\"colab-df-container\">\n",
              "    <button class=\"colab-df-convert\" onclick=\"convertToInteractive('df-84fd804b-adfd-4b8d-8595-56583c3441ae')\"\n",
              "            title=\"Convert this dataframe to an interactive table.\"\n",
              "            style=\"display:none;\">\n",
              "\n",
              "  <svg xmlns=\"http://www.w3.org/2000/svg\" height=\"24px\" viewBox=\"0 -960 960 960\">\n",
              "    <path d=\"M120-120v-720h720v720H120Zm60-500h600v-160H180v160Zm220 220h160v-160H400v160Zm0 220h160v-160H400v160ZM180-400h160v-160H180v160Zm440 0h160v-160H620v160ZM180-180h160v-160H180v160Zm440 0h160v-160H620v160Z\"/>\n",
              "  </svg>\n",
              "    </button>\n",
              "\n",
              "  <style>\n",
              "    .colab-df-container {\n",
              "      display:flex;\n",
              "      gap: 12px;\n",
              "    }\n",
              "\n",
              "    .colab-df-convert {\n",
              "      background-color: #E8F0FE;\n",
              "      border: none;\n",
              "      border-radius: 50%;\n",
              "      cursor: pointer;\n",
              "      display: none;\n",
              "      fill: #1967D2;\n",
              "      height: 32px;\n",
              "      padding: 0 0 0 0;\n",
              "      width: 32px;\n",
              "    }\n",
              "\n",
              "    .colab-df-convert:hover {\n",
              "      background-color: #E2EBFA;\n",
              "      box-shadow: 0px 1px 2px rgba(60, 64, 67, 0.3), 0px 1px 3px 1px rgba(60, 64, 67, 0.15);\n",
              "      fill: #174EA6;\n",
              "    }\n",
              "\n",
              "    .colab-df-buttons div {\n",
              "      margin-bottom: 4px;\n",
              "    }\n",
              "\n",
              "    [theme=dark] .colab-df-convert {\n",
              "      background-color: #3B4455;\n",
              "      fill: #D2E3FC;\n",
              "    }\n",
              "\n",
              "    [theme=dark] .colab-df-convert:hover {\n",
              "      background-color: #434B5C;\n",
              "      box-shadow: 0px 1px 3px 1px rgba(0, 0, 0, 0.15);\n",
              "      filter: drop-shadow(0px 1px 2px rgba(0, 0, 0, 0.3));\n",
              "      fill: #FFFFFF;\n",
              "    }\n",
              "  </style>\n",
              "\n",
              "    <script>\n",
              "      const buttonEl =\n",
              "        document.querySelector('#df-84fd804b-adfd-4b8d-8595-56583c3441ae button.colab-df-convert');\n",
              "      buttonEl.style.display =\n",
              "        google.colab.kernel.accessAllowed ? 'block' : 'none';\n",
              "\n",
              "      async function convertToInteractive(key) {\n",
              "        const element = document.querySelector('#df-84fd804b-adfd-4b8d-8595-56583c3441ae');\n",
              "        const dataTable =\n",
              "          await google.colab.kernel.invokeFunction('convertToInteractive',\n",
              "                                                    [key], {});\n",
              "        if (!dataTable) return;\n",
              "\n",
              "        const docLinkHtml = 'Like what you see? Visit the ' +\n",
              "          '<a target=\"_blank\" href=https://colab.research.google.com/notebooks/data_table.ipynb>data table notebook</a>'\n",
              "          + ' to learn more about interactive tables.';\n",
              "        element.innerHTML = '';\n",
              "        dataTable['output_type'] = 'display_data';\n",
              "        await google.colab.output.renderOutput(dataTable, element);\n",
              "        const docLink = document.createElement('div');\n",
              "        docLink.innerHTML = docLinkHtml;\n",
              "        element.appendChild(docLink);\n",
              "      }\n",
              "    </script>\n",
              "  </div>\n",
              "\n",
              "\n",
              "<div id=\"df-791b8fae-37a7-403e-b2f4-724d717555d4\">\n",
              "  <button class=\"colab-df-quickchart\" onclick=\"quickchart('df-791b8fae-37a7-403e-b2f4-724d717555d4')\"\n",
              "            title=\"Suggest charts\"\n",
              "            style=\"display:none;\">\n",
              "\n",
              "<svg xmlns=\"http://www.w3.org/2000/svg\" height=\"24px\"viewBox=\"0 0 24 24\"\n",
              "     width=\"24px\">\n",
              "    <g>\n",
              "        <path d=\"M19 3H5c-1.1 0-2 .9-2 2v14c0 1.1.9 2 2 2h14c1.1 0 2-.9 2-2V5c0-1.1-.9-2-2-2zM9 17H7v-7h2v7zm4 0h-2V7h2v10zm4 0h-2v-4h2v4z\"/>\n",
              "    </g>\n",
              "</svg>\n",
              "  </button>\n",
              "\n",
              "<style>\n",
              "  .colab-df-quickchart {\n",
              "      --bg-color: #E8F0FE;\n",
              "      --fill-color: #1967D2;\n",
              "      --hover-bg-color: #E2EBFA;\n",
              "      --hover-fill-color: #174EA6;\n",
              "      --disabled-fill-color: #AAA;\n",
              "      --disabled-bg-color: #DDD;\n",
              "  }\n",
              "\n",
              "  [theme=dark] .colab-df-quickchart {\n",
              "      --bg-color: #3B4455;\n",
              "      --fill-color: #D2E3FC;\n",
              "      --hover-bg-color: #434B5C;\n",
              "      --hover-fill-color: #FFFFFF;\n",
              "      --disabled-bg-color: #3B4455;\n",
              "      --disabled-fill-color: #666;\n",
              "  }\n",
              "\n",
              "  .colab-df-quickchart {\n",
              "    background-color: var(--bg-color);\n",
              "    border: none;\n",
              "    border-radius: 50%;\n",
              "    cursor: pointer;\n",
              "    display: none;\n",
              "    fill: var(--fill-color);\n",
              "    height: 32px;\n",
              "    padding: 0;\n",
              "    width: 32px;\n",
              "  }\n",
              "\n",
              "  .colab-df-quickchart:hover {\n",
              "    background-color: var(--hover-bg-color);\n",
              "    box-shadow: 0 1px 2px rgba(60, 64, 67, 0.3), 0 1px 3px 1px rgba(60, 64, 67, 0.15);\n",
              "    fill: var(--button-hover-fill-color);\n",
              "  }\n",
              "\n",
              "  .colab-df-quickchart-complete:disabled,\n",
              "  .colab-df-quickchart-complete:disabled:hover {\n",
              "    background-color: var(--disabled-bg-color);\n",
              "    fill: var(--disabled-fill-color);\n",
              "    box-shadow: none;\n",
              "  }\n",
              "\n",
              "  .colab-df-spinner {\n",
              "    border: 2px solid var(--fill-color);\n",
              "    border-color: transparent;\n",
              "    border-bottom-color: var(--fill-color);\n",
              "    animation:\n",
              "      spin 1s steps(1) infinite;\n",
              "  }\n",
              "\n",
              "  @keyframes spin {\n",
              "    0% {\n",
              "      border-color: transparent;\n",
              "      border-bottom-color: var(--fill-color);\n",
              "      border-left-color: var(--fill-color);\n",
              "    }\n",
              "    20% {\n",
              "      border-color: transparent;\n",
              "      border-left-color: var(--fill-color);\n",
              "      border-top-color: var(--fill-color);\n",
              "    }\n",
              "    30% {\n",
              "      border-color: transparent;\n",
              "      border-left-color: var(--fill-color);\n",
              "      border-top-color: var(--fill-color);\n",
              "      border-right-color: var(--fill-color);\n",
              "    }\n",
              "    40% {\n",
              "      border-color: transparent;\n",
              "      border-right-color: var(--fill-color);\n",
              "      border-top-color: var(--fill-color);\n",
              "    }\n",
              "    60% {\n",
              "      border-color: transparent;\n",
              "      border-right-color: var(--fill-color);\n",
              "    }\n",
              "    80% {\n",
              "      border-color: transparent;\n",
              "      border-right-color: var(--fill-color);\n",
              "      border-bottom-color: var(--fill-color);\n",
              "    }\n",
              "    90% {\n",
              "      border-color: transparent;\n",
              "      border-bottom-color: var(--fill-color);\n",
              "    }\n",
              "  }\n",
              "</style>\n",
              "\n",
              "  <script>\n",
              "    async function quickchart(key) {\n",
              "      const quickchartButtonEl =\n",
              "        document.querySelector('#' + key + ' button');\n",
              "      quickchartButtonEl.disabled = true;  // To prevent multiple clicks.\n",
              "      quickchartButtonEl.classList.add('colab-df-spinner');\n",
              "      try {\n",
              "        const charts = await google.colab.kernel.invokeFunction(\n",
              "            'suggestCharts', [key], {});\n",
              "      } catch (error) {\n",
              "        console.error('Error during call to suggestCharts:', error);\n",
              "      }\n",
              "      quickchartButtonEl.classList.remove('colab-df-spinner');\n",
              "      quickchartButtonEl.classList.add('colab-df-quickchart-complete');\n",
              "    }\n",
              "    (() => {\n",
              "      let quickchartButtonEl =\n",
              "        document.querySelector('#df-791b8fae-37a7-403e-b2f4-724d717555d4 button');\n",
              "      quickchartButtonEl.style.display =\n",
              "        google.colab.kernel.accessAllowed ? 'block' : 'none';\n",
              "    })();\n",
              "  </script>\n",
              "</div>\n",
              "\n",
              "    </div>\n",
              "  </div>\n"
            ],
            "application/vnd.google.colaboratory.intrinsic+json": {
              "type": "dataframe",
              "repr_error": "Out of range float values are not JSON compliant: nan"
            }
          },
          "metadata": {},
          "execution_count": 61
        }
      ],
      "source": [
        "test_data.head()\n",
        "# y_test = test_data.drop(\"Survived\")\n",
        "# y_test"
      ]
    },
    {
      "cell_type": "code",
      "execution_count": null,
      "metadata": {
        "id": "0mYJSJc4lZZl"
      },
      "outputs": [],
      "source": [
        "# Preprocessing function\n",
        "def preprocess_data(df):\n",
        "    # Fill missing values\n",
        "    df['Age'].fillna(df['Age'].median(), inplace=True)\n",
        "    df['Fare'].fillna(df['Fare'].median(), inplace=True)\n",
        "    df['Embarked'].fillna(df['Embarked'].mode()[0], inplace=True)\n",
        "\n",
        "    # Encode categorical variables\n",
        "    df['Sex'] = LabelEncoder().fit_transform(df['Sex'])\n",
        "    df['Embarked'] = LabelEncoder().fit_transform(df['Embarked'])\n",
        "\n",
        "    # Drop unnecessary columns\n",
        "    df.drop(['PassengerId', 'Name', 'Ticket', 'Cabin'], axis=1, inplace=True)\n",
        "\n",
        "    return df"
      ]
    },
    {
      "cell_type": "code",
      "execution_count": null,
      "metadata": {
        "colab": {
          "base_uri": "https://localhost:8080/"
        },
        "id": "acDxV1wHnc4D",
        "outputId": "7644b70b-00b7-4eb0-91be-aa80644e7ff3"
      },
      "outputs": [
        {
          "output_type": "stream",
          "name": "stderr",
          "text": [
            "<ipython-input-62-1add443de622>:4: FutureWarning: A value is trying to be set on a copy of a DataFrame or Series through chained assignment using an inplace method.\n",
            "The behavior will change in pandas 3.0. This inplace method will never work because the intermediate object on which we are setting values always behaves as a copy.\n",
            "\n",
            "For example, when doing 'df[col].method(value, inplace=True)', try using 'df.method({col: value}, inplace=True)' or df[col] = df[col].method(value) instead, to perform the operation inplace on the original object.\n",
            "\n",
            "\n",
            "  df['Age'].fillna(df['Age'].median(), inplace=True)\n",
            "<ipython-input-62-1add443de622>:5: FutureWarning: A value is trying to be set on a copy of a DataFrame or Series through chained assignment using an inplace method.\n",
            "The behavior will change in pandas 3.0. This inplace method will never work because the intermediate object on which we are setting values always behaves as a copy.\n",
            "\n",
            "For example, when doing 'df[col].method(value, inplace=True)', try using 'df.method({col: value}, inplace=True)' or df[col] = df[col].method(value) instead, to perform the operation inplace on the original object.\n",
            "\n",
            "\n",
            "  df['Fare'].fillna(df['Fare'].median(), inplace=True)\n",
            "<ipython-input-62-1add443de622>:6: FutureWarning: A value is trying to be set on a copy of a DataFrame or Series through chained assignment using an inplace method.\n",
            "The behavior will change in pandas 3.0. This inplace method will never work because the intermediate object on which we are setting values always behaves as a copy.\n",
            "\n",
            "For example, when doing 'df[col].method(value, inplace=True)', try using 'df.method({col: value}, inplace=True)' or df[col] = df[col].method(value) instead, to perform the operation inplace on the original object.\n",
            "\n",
            "\n",
            "  df['Embarked'].fillna(df['Embarked'].mode()[0], inplace=True)\n",
            "<ipython-input-62-1add443de622>:4: FutureWarning: A value is trying to be set on a copy of a DataFrame or Series through chained assignment using an inplace method.\n",
            "The behavior will change in pandas 3.0. This inplace method will never work because the intermediate object on which we are setting values always behaves as a copy.\n",
            "\n",
            "For example, when doing 'df[col].method(value, inplace=True)', try using 'df.method({col: value}, inplace=True)' or df[col] = df[col].method(value) instead, to perform the operation inplace on the original object.\n",
            "\n",
            "\n",
            "  df['Age'].fillna(df['Age'].median(), inplace=True)\n",
            "<ipython-input-62-1add443de622>:5: FutureWarning: A value is trying to be set on a copy of a DataFrame or Series through chained assignment using an inplace method.\n",
            "The behavior will change in pandas 3.0. This inplace method will never work because the intermediate object on which we are setting values always behaves as a copy.\n",
            "\n",
            "For example, when doing 'df[col].method(value, inplace=True)', try using 'df.method({col: value}, inplace=True)' or df[col] = df[col].method(value) instead, to perform the operation inplace on the original object.\n",
            "\n",
            "\n",
            "  df['Fare'].fillna(df['Fare'].median(), inplace=True)\n",
            "<ipython-input-62-1add443de622>:6: FutureWarning: A value is trying to be set on a copy of a DataFrame or Series through chained assignment using an inplace method.\n",
            "The behavior will change in pandas 3.0. This inplace method will never work because the intermediate object on which we are setting values always behaves as a copy.\n",
            "\n",
            "For example, when doing 'df[col].method(value, inplace=True)', try using 'df.method({col: value}, inplace=True)' or df[col] = df[col].method(value) instead, to perform the operation inplace on the original object.\n",
            "\n",
            "\n",
            "  df['Embarked'].fillna(df['Embarked'].mode()[0], inplace=True)\n"
          ]
        }
      ],
      "source": [
        "# Preprocess train and test data\n",
        "train_data = preprocess_data(train_data)\n",
        "test_data = preprocess_data(test_data)\n",
        "\n",
        "# Split the data into features and target\n",
        "X = train_data.drop('Survived', axis=1)\n",
        "y = train_data['Survived']\n",
        "\n",
        "# Normalize the features\n",
        "scaler = StandardScaler()\n",
        "X = scaler.fit_transform(X)\n",
        "test_data = scaler.transform(test_data)\n",
        "\n",
        "# Split the data into training and validation sets\n",
        "X_train, X_val, y_train, y_val = train_test_split(X, y, test_size=0.2, random_state=42)"
      ]
    },
    {
      "cell_type": "code",
      "execution_count": null,
      "metadata": {
        "colab": {
          "base_uri": "https://localhost:8080/",
          "height": 424
        },
        "id": "_Za2uO12netV",
        "outputId": "78ce0ff9-433c-4466-e20a-847a3631282a"
      },
      "outputs": [
        {
          "output_type": "execute_result",
          "data": {
            "text/plain": [
              "     Survived\n",
              "0           0\n",
              "1           1\n",
              "2           1\n",
              "3           1\n",
              "4           0\n",
              "..        ...\n",
              "886         0\n",
              "887         1\n",
              "888         0\n",
              "889         1\n",
              "890         0\n",
              "\n",
              "[891 rows x 1 columns]"
            ],
            "text/html": [
              "\n",
              "  <div id=\"df-debbded0-576b-4dfe-8d55-0757ffbebbd4\" class=\"colab-df-container\">\n",
              "    <div>\n",
              "<style scoped>\n",
              "    .dataframe tbody tr th:only-of-type {\n",
              "        vertical-align: middle;\n",
              "    }\n",
              "\n",
              "    .dataframe tbody tr th {\n",
              "        vertical-align: top;\n",
              "    }\n",
              "\n",
              "    .dataframe thead th {\n",
              "        text-align: right;\n",
              "    }\n",
              "</style>\n",
              "<table border=\"1\" class=\"dataframe\">\n",
              "  <thead>\n",
              "    <tr style=\"text-align: right;\">\n",
              "      <th></th>\n",
              "      <th>Survived</th>\n",
              "    </tr>\n",
              "  </thead>\n",
              "  <tbody>\n",
              "    <tr>\n",
              "      <th>0</th>\n",
              "      <td>0</td>\n",
              "    </tr>\n",
              "    <tr>\n",
              "      <th>1</th>\n",
              "      <td>1</td>\n",
              "    </tr>\n",
              "    <tr>\n",
              "      <th>2</th>\n",
              "      <td>1</td>\n",
              "    </tr>\n",
              "    <tr>\n",
              "      <th>3</th>\n",
              "      <td>1</td>\n",
              "    </tr>\n",
              "    <tr>\n",
              "      <th>4</th>\n",
              "      <td>0</td>\n",
              "    </tr>\n",
              "    <tr>\n",
              "      <th>...</th>\n",
              "      <td>...</td>\n",
              "    </tr>\n",
              "    <tr>\n",
              "      <th>886</th>\n",
              "      <td>0</td>\n",
              "    </tr>\n",
              "    <tr>\n",
              "      <th>887</th>\n",
              "      <td>1</td>\n",
              "    </tr>\n",
              "    <tr>\n",
              "      <th>888</th>\n",
              "      <td>0</td>\n",
              "    </tr>\n",
              "    <tr>\n",
              "      <th>889</th>\n",
              "      <td>1</td>\n",
              "    </tr>\n",
              "    <tr>\n",
              "      <th>890</th>\n",
              "      <td>0</td>\n",
              "    </tr>\n",
              "  </tbody>\n",
              "</table>\n",
              "<p>891 rows × 1 columns</p>\n",
              "</div>\n",
              "    <div class=\"colab-df-buttons\">\n",
              "\n",
              "  <div class=\"colab-df-container\">\n",
              "    <button class=\"colab-df-convert\" onclick=\"convertToInteractive('df-debbded0-576b-4dfe-8d55-0757ffbebbd4')\"\n",
              "            title=\"Convert this dataframe to an interactive table.\"\n",
              "            style=\"display:none;\">\n",
              "\n",
              "  <svg xmlns=\"http://www.w3.org/2000/svg\" height=\"24px\" viewBox=\"0 -960 960 960\">\n",
              "    <path d=\"M120-120v-720h720v720H120Zm60-500h600v-160H180v160Zm220 220h160v-160H400v160Zm0 220h160v-160H400v160ZM180-400h160v-160H180v160Zm440 0h160v-160H620v160ZM180-180h160v-160H180v160Zm440 0h160v-160H620v160Z\"/>\n",
              "  </svg>\n",
              "    </button>\n",
              "\n",
              "  <style>\n",
              "    .colab-df-container {\n",
              "      display:flex;\n",
              "      gap: 12px;\n",
              "    }\n",
              "\n",
              "    .colab-df-convert {\n",
              "      background-color: #E8F0FE;\n",
              "      border: none;\n",
              "      border-radius: 50%;\n",
              "      cursor: pointer;\n",
              "      display: none;\n",
              "      fill: #1967D2;\n",
              "      height: 32px;\n",
              "      padding: 0 0 0 0;\n",
              "      width: 32px;\n",
              "    }\n",
              "\n",
              "    .colab-df-convert:hover {\n",
              "      background-color: #E2EBFA;\n",
              "      box-shadow: 0px 1px 2px rgba(60, 64, 67, 0.3), 0px 1px 3px 1px rgba(60, 64, 67, 0.15);\n",
              "      fill: #174EA6;\n",
              "    }\n",
              "\n",
              "    .colab-df-buttons div {\n",
              "      margin-bottom: 4px;\n",
              "    }\n",
              "\n",
              "    [theme=dark] .colab-df-convert {\n",
              "      background-color: #3B4455;\n",
              "      fill: #D2E3FC;\n",
              "    }\n",
              "\n",
              "    [theme=dark] .colab-df-convert:hover {\n",
              "      background-color: #434B5C;\n",
              "      box-shadow: 0px 1px 3px 1px rgba(0, 0, 0, 0.15);\n",
              "      filter: drop-shadow(0px 1px 2px rgba(0, 0, 0, 0.3));\n",
              "      fill: #FFFFFF;\n",
              "    }\n",
              "  </style>\n",
              "\n",
              "    <script>\n",
              "      const buttonEl =\n",
              "        document.querySelector('#df-debbded0-576b-4dfe-8d55-0757ffbebbd4 button.colab-df-convert');\n",
              "      buttonEl.style.display =\n",
              "        google.colab.kernel.accessAllowed ? 'block' : 'none';\n",
              "\n",
              "      async function convertToInteractive(key) {\n",
              "        const element = document.querySelector('#df-debbded0-576b-4dfe-8d55-0757ffbebbd4');\n",
              "        const dataTable =\n",
              "          await google.colab.kernel.invokeFunction('convertToInteractive',\n",
              "                                                    [key], {});\n",
              "        if (!dataTable) return;\n",
              "\n",
              "        const docLinkHtml = 'Like what you see? Visit the ' +\n",
              "          '<a target=\"_blank\" href=https://colab.research.google.com/notebooks/data_table.ipynb>data table notebook</a>'\n",
              "          + ' to learn more about interactive tables.';\n",
              "        element.innerHTML = '';\n",
              "        dataTable['output_type'] = 'display_data';\n",
              "        await google.colab.output.renderOutput(dataTable, element);\n",
              "        const docLink = document.createElement('div');\n",
              "        docLink.innerHTML = docLinkHtml;\n",
              "        element.appendChild(docLink);\n",
              "      }\n",
              "    </script>\n",
              "  </div>\n",
              "\n",
              "\n",
              "<div id=\"df-60930bbc-b444-454e-922a-f4e6ff5f1630\">\n",
              "  <button class=\"colab-df-quickchart\" onclick=\"quickchart('df-60930bbc-b444-454e-922a-f4e6ff5f1630')\"\n",
              "            title=\"Suggest charts\"\n",
              "            style=\"display:none;\">\n",
              "\n",
              "<svg xmlns=\"http://www.w3.org/2000/svg\" height=\"24px\"viewBox=\"0 0 24 24\"\n",
              "     width=\"24px\">\n",
              "    <g>\n",
              "        <path d=\"M19 3H5c-1.1 0-2 .9-2 2v14c0 1.1.9 2 2 2h14c1.1 0 2-.9 2-2V5c0-1.1-.9-2-2-2zM9 17H7v-7h2v7zm4 0h-2V7h2v10zm4 0h-2v-4h2v4z\"/>\n",
              "    </g>\n",
              "</svg>\n",
              "  </button>\n",
              "\n",
              "<style>\n",
              "  .colab-df-quickchart {\n",
              "      --bg-color: #E8F0FE;\n",
              "      --fill-color: #1967D2;\n",
              "      --hover-bg-color: #E2EBFA;\n",
              "      --hover-fill-color: #174EA6;\n",
              "      --disabled-fill-color: #AAA;\n",
              "      --disabled-bg-color: #DDD;\n",
              "  }\n",
              "\n",
              "  [theme=dark] .colab-df-quickchart {\n",
              "      --bg-color: #3B4455;\n",
              "      --fill-color: #D2E3FC;\n",
              "      --hover-bg-color: #434B5C;\n",
              "      --hover-fill-color: #FFFFFF;\n",
              "      --disabled-bg-color: #3B4455;\n",
              "      --disabled-fill-color: #666;\n",
              "  }\n",
              "\n",
              "  .colab-df-quickchart {\n",
              "    background-color: var(--bg-color);\n",
              "    border: none;\n",
              "    border-radius: 50%;\n",
              "    cursor: pointer;\n",
              "    display: none;\n",
              "    fill: var(--fill-color);\n",
              "    height: 32px;\n",
              "    padding: 0;\n",
              "    width: 32px;\n",
              "  }\n",
              "\n",
              "  .colab-df-quickchart:hover {\n",
              "    background-color: var(--hover-bg-color);\n",
              "    box-shadow: 0 1px 2px rgba(60, 64, 67, 0.3), 0 1px 3px 1px rgba(60, 64, 67, 0.15);\n",
              "    fill: var(--button-hover-fill-color);\n",
              "  }\n",
              "\n",
              "  .colab-df-quickchart-complete:disabled,\n",
              "  .colab-df-quickchart-complete:disabled:hover {\n",
              "    background-color: var(--disabled-bg-color);\n",
              "    fill: var(--disabled-fill-color);\n",
              "    box-shadow: none;\n",
              "  }\n",
              "\n",
              "  .colab-df-spinner {\n",
              "    border: 2px solid var(--fill-color);\n",
              "    border-color: transparent;\n",
              "    border-bottom-color: var(--fill-color);\n",
              "    animation:\n",
              "      spin 1s steps(1) infinite;\n",
              "  }\n",
              "\n",
              "  @keyframes spin {\n",
              "    0% {\n",
              "      border-color: transparent;\n",
              "      border-bottom-color: var(--fill-color);\n",
              "      border-left-color: var(--fill-color);\n",
              "    }\n",
              "    20% {\n",
              "      border-color: transparent;\n",
              "      border-left-color: var(--fill-color);\n",
              "      border-top-color: var(--fill-color);\n",
              "    }\n",
              "    30% {\n",
              "      border-color: transparent;\n",
              "      border-left-color: var(--fill-color);\n",
              "      border-top-color: var(--fill-color);\n",
              "      border-right-color: var(--fill-color);\n",
              "    }\n",
              "    40% {\n",
              "      border-color: transparent;\n",
              "      border-right-color: var(--fill-color);\n",
              "      border-top-color: var(--fill-color);\n",
              "    }\n",
              "    60% {\n",
              "      border-color: transparent;\n",
              "      border-right-color: var(--fill-color);\n",
              "    }\n",
              "    80% {\n",
              "      border-color: transparent;\n",
              "      border-right-color: var(--fill-color);\n",
              "      border-bottom-color: var(--fill-color);\n",
              "    }\n",
              "    90% {\n",
              "      border-color: transparent;\n",
              "      border-bottom-color: var(--fill-color);\n",
              "    }\n",
              "  }\n",
              "</style>\n",
              "\n",
              "  <script>\n",
              "    async function quickchart(key) {\n",
              "      const quickchartButtonEl =\n",
              "        document.querySelector('#' + key + ' button');\n",
              "      quickchartButtonEl.disabled = true;  // To prevent multiple clicks.\n",
              "      quickchartButtonEl.classList.add('colab-df-spinner');\n",
              "      try {\n",
              "        const charts = await google.colab.kernel.invokeFunction(\n",
              "            'suggestCharts', [key], {});\n",
              "      } catch (error) {\n",
              "        console.error('Error during call to suggestCharts:', error);\n",
              "      }\n",
              "      quickchartButtonEl.classList.remove('colab-df-spinner');\n",
              "      quickchartButtonEl.classList.add('colab-df-quickchart-complete');\n",
              "    }\n",
              "    (() => {\n",
              "      let quickchartButtonEl =\n",
              "        document.querySelector('#df-60930bbc-b444-454e-922a-f4e6ff5f1630 button');\n",
              "      quickchartButtonEl.style.display =\n",
              "        google.colab.kernel.accessAllowed ? 'block' : 'none';\n",
              "    })();\n",
              "  </script>\n",
              "</div>\n",
              "\n",
              "    </div>\n",
              "  </div>\n"
            ],
            "application/vnd.google.colaboratory.intrinsic+json": {
              "type": "dataframe",
              "summary": "{\n  \"name\": \"pd\",\n  \"rows\": 891,\n  \"fields\": [\n    {\n      \"column\": \"Survived\",\n      \"properties\": {\n        \"dtype\": \"number\",\n        \"std\": 0,\n        \"min\": 0,\n        \"max\": 1,\n        \"num_unique_values\": 2,\n        \"samples\": [\n          1,\n          0\n        ],\n        \"semantic_type\": \"\",\n        \"description\": \"\"\n      }\n    }\n  ]\n}"
            }
          },
          "metadata": {},
          "execution_count": 64
        }
      ],
      "source": [
        "pd.DataFrame(y)"
      ]
    },
    {
      "cell_type": "code",
      "execution_count": null,
      "metadata": {
        "id": "lSv3djrVnRX8"
      },
      "outputs": [],
      "source": [
        "from deap import base, creator, tools, gp\n",
        "import operator\n",
        "from sklearn.metrics import brier_score_loss\n",
        "from scipy.special import expit"
      ]
    },
    {
      "cell_type": "code",
      "execution_count": null,
      "metadata": {
        "id": "YKLNCZKrnnPX",
        "colab": {
          "base_uri": "https://localhost:8080/"
        },
        "outputId": "120fc4e3-ba36-4daf-8f31-722f4f11ac97"
      },
      "outputs": [
        {
          "output_type": "stream",
          "name": "stderr",
          "text": [
            "/usr/local/lib/python3.11/dist-packages/deap/gp.py:257: RuntimeWarning: Ephemeral rand_const function cannot be pickled because its generating function is a lambda function. Use functools.partial instead.\n",
            "  warnings.warn(\"Ephemeral {name} function cannot be \"\n"
          ]
        }
      ],
      "source": [
        "# # primitive sets:\n",
        "# # Define the primitive set\n",
        "# def add(a, b): return a + b\n",
        "# def sub(a, b): return a - b\n",
        "# def mul(a, b): return a * b\n",
        "# def div(a, b): return a / b if b != 0 else 1\n",
        "\n",
        "# # def sqr(a): return a ** 2\n",
        "# # def trip(a): return a ** 3\n",
        "# def neg(a): return -a\n",
        "# def log(a): return math.log(abs(a)) if a != 0 else 0  # Protect against zero and negative inputs\n",
        "# # def sin(a): return math.sin(a)\n",
        "# # def cos(a): return math.cos(a)\n",
        "# # def tan(a): return math.tan(a)\n",
        "# # def exp(a): return math.exp(a)\n",
        "\n",
        "# two_element_operations = [add, sub, mul, div]\n",
        "# one_element_operations = [log, neg]\n",
        "\n",
        "# primitive_set = [add, sub, mul, div, log, neg]\n",
        "\n",
        "# ^ THE ABOVE WAS BEFORE I WAS ALLOWED TO USE THE DEAP BY ACCIDENT\n",
        "\n",
        "# Define the primitive set\n",
        "pset = gp.PrimitiveSet(\"MAIN\", arity=X_train.shape[1])  # Arity = number of features\n",
        "pset.addPrimitive(np.add, 2)\n",
        "pset.addPrimitive(np.subtract, 2)\n",
        "pset.addPrimitive(np.multiply, 2)\n",
        "pset.addPrimitive(np.negative, 1)\n",
        "def protected_div(x, y):\n",
        "    # Avoid division by zero; return a default value (e.g., 1) if y is near zero.\n",
        "    return x / y if abs(y) > 1e-6 else 1.0\n",
        "\n",
        "pset.addPrimitive(protected_div, 2)\n",
        "# pset.addPrimitive(np.abs, 1)\n",
        "# pset.addPrimitive(operator.neg, 1)\n",
        "# pset.addPrimitive(math.sin, 1)\n",
        "# pset.addPrimitive(math.cos, 1)\n",
        "# pset.addPrimitive(abs, 1)\n",
        "\n",
        "\n",
        "# Add terminals (features and constants)\n",
        "for i in range(X_train.shape[1]):\n",
        "    pset.addTerminal(i, name=f\"x{i}\")\n",
        "pset.addEphemeralConstant(\"rand_const\", lambda: random.uniform(-1, 1))"
      ]
    },
    {
      "cell_type": "code",
      "execution_count": null,
      "metadata": {
        "id": "oq0BPY2wnusl",
        "colab": {
          "base_uri": "https://localhost:8080/"
        },
        "outputId": "a6ad97a1-9001-40f1-b1e9-40e5dcd13e70"
      },
      "outputs": [
        {
          "output_type": "stream",
          "name": "stderr",
          "text": [
            "/usr/local/lib/python3.11/dist-packages/deap/creator.py:185: RuntimeWarning: A class named 'FitnessMin' has already been created and it will be overwritten. Consider deleting previous creation of that class or rename it.\n",
            "  warnings.warn(\"A class named '{0}' has already been created and it \"\n",
            "/usr/local/lib/python3.11/dist-packages/deap/creator.py:185: RuntimeWarning: A class named 'Individual' has already been created and it will be overwritten. Consider deleting previous creation of that class or rename it.\n",
            "  warnings.warn(\"A class named '{0}' has already been created and it \"\n"
          ]
        }
      ],
      "source": [
        "# next, we define the fitness and individual classes:\n",
        "# goal is to MINIMIZE FNR and FPR\n",
        "creator.create(\"FitnessMin\", base.Fitness, weights=(-1.0, -1.0, 0.4))\n",
        "\n",
        "creator.create(\"Individual\", gp.PrimitiveTree, fitness=creator.FitnessMin)\n",
        "\n",
        "\n"
      ]
    },
    {
      "cell_type": "code",
      "execution_count": null,
      "metadata": {
        "id": "1_OsxKg0o4uc"
      },
      "outputs": [],
      "source": [
        "from os import MFD_CLOEXEC\n",
        "# Evaluate an individual\n",
        "\n",
        "def evaluate_individual(individual, X, y):\n",
        "\n",
        "\n",
        "    func = toolbox.compile(expr=individual)\n",
        "    predictions = np.array([func(*x) for x in X])\n",
        "    predictions = (predictions > 0).astype(int)  # Convert to binary output\n",
        "\n",
        "    # to also take into account accuracy, calculate based on the current indiv.\n",
        "    accuracy = accuracy_score(y, predictions)\n",
        "\n",
        "    # Calculate confusion matrix values\n",
        "    tn, fp, fn, tp = confusion_matrix(y, predictions).ravel()\n",
        "    fpr = fp / (fp + tn) if (fp + tn) > 0 else 0\n",
        "    fnr = fn / (fn + tp) if (fn + tp) > 0 else 0\n",
        "    p = np.mean(predictions)\n",
        "    # Avoid log(0) issues\n",
        "    if p == 0 or p == 1:\n",
        "      neg_entropy = 0\n",
        "    else:\n",
        "      neg_entropy = - (p * np.log2(p) + (1 - p) * np.log2(1 - p))\n",
        "\n",
        "    return fpr, fnr, neg_entropy\n",
        "    # our multiobjectives return as a tuple w/ 3 terms.\n",
        "\n",
        "\n",
        "\n",
        "\n",
        "# def evaluate_individual(individual, X, y):\n",
        "#     # Compile the individual into a function\n",
        "#     func = gp.compile(expr=individual, pset=pset)\n",
        "\n",
        "#     # Predict on the dataset\n",
        "#     predictions = [1 if func(*x) > 0 else 0 for x in X]  # Assumes binary classification (0 or 1)\n",
        "\n",
        "#     # Calculate accuracy (e.g., survival or not survival)\n",
        "#     accuracy = sum(int(pred == true_label) for pred, true_label in zip(predictions, y)) / len(y)\n",
        "\n",
        "#     return (accuracy,)  # DEAP requires fitness to be a tuple\n",
        "\n",
        "# def evalSymbReg(individual, points, pset):\n",
        "#     func = gp.compile(expr=individual, pset=pset)\n",
        "#     sqerrors = (func(points)-(points**4 + points**3 + points**2 + points))**2\n",
        "#     return (np.sqrt(np.sum(sqerrors) / len(points)),)\n",
        "\n",
        "# NON DEAP EVALUATION FUNCTION:\n",
        "# def evaluate_individual(individual, X):\n",
        "#     if isinstance(individual, list):\n",
        "#         func = individual[0]\n",
        "\n",
        "#         if func in one_element_operations:  # Unary function\n",
        "#             arg = evaluate_individual(individual[1], X)\n",
        "#             return func(arg)\n",
        "#         else:  # Binary function\n",
        "#             arg1 = evaluate_individual(individual[1], X)\n",
        "#             arg2 = evaluate_individual(individual[2], X)\n",
        "#             return func(arg1, arg2)\n",
        "\n",
        "#     else:\n",
        "#         if callable(individual):\n",
        "#             # If it's a terminal function (e.g., get_random_feature or get_random_constant), call it\n",
        "#             return individual()\n",
        "#         else:\n",
        "#             # If it's a feature index, return the corresponding feature value from the input row x\n",
        "#             if isinstance(individual, int):\n",
        "#                 return X[individual]\n",
        "#             else:\n",
        "#                 # If it's a constant, return the constant value\n",
        "#                 return individual\n",
        "\n",
        "# evaluate_individual(1)"
      ]
    },
    {
      "cell_type": "code",
      "execution_count": null,
      "metadata": {
        "id": "XNK4nWDAoPXq"
      },
      "outputs": [],
      "source": [
        "# Set up our GP to be able to access our created evaluation function, and specify the data of interest.\n",
        "toolbox = base.Toolbox()\n",
        "toolbox.register(\"expr\", gp.genHalfAndHalf, pset=pset, min_=1, max_=2)\n",
        "toolbox.register(\"individual\", tools.initIterate, creator.Individual, toolbox.expr)\n",
        "toolbox.register(\"population\", tools.initRepeat, list, toolbox.individual)\n",
        "toolbox.register(\"compile\", gp.compile, pset=pset)\n",
        "toolbox.register(\"evaluate\", evaluate_individual, X=X_train, y=y_train)  # Assuming Titanic data split\n",
        "\n",
        "toolbox.register(\"select\", tools.selNSGA2)  # Pareto-based selection ( can experiment later )\n",
        "toolbox.register(\"mate\", gp.cxOnePoint)\n",
        "toolbox.register(\"expr_mut\", gp.genFull, min_=0, max_=3)\n",
        "toolbox.register(\"mutate\", gp.mutUniform, expr=toolbox.expr_mut, pset=pset)\n",
        "\n",
        "# Limit tree depth\n",
        "# toolbox.decorate(\"mate\", gp.staticLimit(key=operator.attrgetter(\"height\"), max_value=11))\n",
        "# toolbox.decorate(\"mutate\", gp.staticLimit(key=operator.attrgetter(\"height\"), max_value=11)) # RESTORE TO ARYEMAN'S\n",
        "\n",
        "\n",
        "toolbox.decorate(\"mate\", gp.staticLimit(key=operator.attrgetter(\"height\"), max_value=9))\n",
        "toolbox.decorate(\"mutate\", gp.staticLimit(key=operator.attrgetter(\"height\"), max_value=8))"
      ]
    },
    {
      "cell_type": "code",
      "execution_count": null,
      "metadata": {
        "id": "K_jCs_6-py6g"
      },
      "outputs": [],
      "source": [
        "# RUN THE EVOLUTIONARY  ALGORITHM TO EVOLVE EACH OPTIMAL INDIVIDUALS.\n",
        "\n",
        "def run_gp():\n",
        "    random.seed(42)\n",
        "    pop = toolbox.population(n=400)\n",
        "    # ORIGINAL VALUES (last time Aryeman modified)\n",
        "    ngen = 40  # Number of generations\n",
        "    cxpb = 0.8  # Crossover probability\n",
        "    mutpb = 0.3  # Mutation probability\n",
        "\n",
        "\n",
        "    # ngen = 41  # Number of generations\n",
        "    # cxpb = 0.45  # Crossover probability\n",
        "    # mutpb = 0.35  # Mutation probability\n",
        "\n",
        "    # Run the evolutionary algorithm generations\n",
        "    for gen in range(ngen):\n",
        "        offspring = [toolbox.clone(ind) for ind in toolbox.select(pop, len(pop))]\n",
        "\n",
        "        # an alternate offspring selection method!\n",
        "        # offspring = tools.selTournamentDCD(pop, len(pop)) # uses tournament to select\n",
        "        # offspring = list(map(toolbox.clone, offspring))\n",
        "\n",
        "        # Apply crossover and mutation\n",
        "        for child1, child2 in zip(offspring[::2], offspring[1::2]):\n",
        "            if random.random() < cxpb:\n",
        "                toolbox.mate(child1, child2)\n",
        "                del child1.fitness.values\n",
        "                del child2.fitness.values\n",
        "\n",
        "        for mutant in offspring:\n",
        "            if random.random() < mutpb:\n",
        "                toolbox.mutate(mutant)\n",
        "                del mutant.fitness.values\n",
        "\n",
        "        # Evaluate individuals with invalid fitness\n",
        "        invalid_ind = [ind for ind in offspring if not ind.fitness.valid]\n",
        "        fitnesses = map(toolbox.evaluate, invalid_ind)\n",
        "        for ind, fit in zip(invalid_ind, fitnesses):\n",
        "            ind.fitness.values = fit\n",
        "\n",
        "        # Replace the population\n",
        "        pop[:] = offspring\n",
        "\n",
        "        # Print best fitness per generation\n",
        "        best_ind = tools.selBest(pop, 1)[0]\n",
        "        print(f\"Gen {gen}: Best Fitness = {best_ind.fitness.values}\")\n",
        "\n",
        "    return pop\n",
        "\n",
        "# # Initialize the population\n",
        "# population = toolbox.population(n=100)\n",
        "\n",
        "# # Run the evolutionary algorithm\n",
        "# stats = tools.Statistics(lambda ind: ind.fitness.values)\n",
        "# stats.register(\"min\", np.min, axis=0)\n",
        "# stats.register(\"avg\", np.mean, axis=0)\n",
        "# stats.register(\"max\", np.max, axis=0)\n",
        "\n",
        "# hof = tools.ParetoFront()  # Hall of Fame for Pareto optimal individuals\n",
        "\n",
        "# result, log = algorithms.eaMuPlusLambda(\n",
        "#     population, toolbox, mu=50, lambda_=100, cxpb=0.7, mutpb=0.3,\n",
        "#     ngen=20, stats=stats, halloffame=hof, verbose=True\n",
        "# )"
      ]
    },
    {
      "cell_type": "code",
      "execution_count": null,
      "metadata": {
        "colab": {
          "base_uri": "https://localhost:8080/"
        },
        "id": "h7zvXdd46Z2W",
        "outputId": "861d41f0-2977-4716-f2a6-c32c6dc8acfe"
      },
      "outputs": [
        {
          "output_type": "stream",
          "name": "stdout",
          "text": [
            "Gen 0: Best Fitness = (0.0, 1.0, 0.0)\n",
            "Gen 1: Best Fitness = (0.0, 1.0, 0.0)\n",
            "Gen 2: Best Fitness = (0.0, 1.0, 0.0)\n",
            "Gen 3: Best Fitness = (0.0, 0.9888059701492538, 0.039313577139178074)\n",
            "Gen 4: Best Fitness = (0.0, 1.0, 0.0)\n",
            "Gen 5: Best Fitness = (0.0, 1.0, 0.0)\n",
            "Gen 6: Best Fitness = (0.0, 0.9888059701492538, 0.039313577139178074)\n",
            "Gen 7: Best Fitness = (0.0, 0.9888059701492538, 0.039313577139178074)\n",
            "Gen 8: Best Fitness = (0.0, 0.9888059701492538, 0.039313577139178074)\n",
            "Gen 9: Best Fitness = (0.0, 0.9888059701492538, 0.039313577139178074)\n",
            "Gen 10: Best Fitness = (0.0, 0.9888059701492538, 0.039313577139178074)\n",
            "Gen 11: Best Fitness = (0.0, 0.9850746268656716, 0.050080721052405935)\n",
            "Gen 12: Best Fitness = (0.0, 0.9850746268656716, 0.050080721052405935)\n",
            "Gen 13: Best Fitness = (0.0, 0.9850746268656716, 0.050080721052405935)\n",
            "Gen 14: Best Fitness = (0.0, 0.9888059701492538, 0.039313577139178074)\n",
            "Gen 15: Best Fitness = (0.0, 1.0, 0.0)\n",
            "Gen 16: Best Fitness = (0.0, 0.9888059701492538, 0.039313577139178074)\n",
            "Gen 17: Best Fitness = (0.0, 0.9888059701492538, 0.039313577139178074)\n",
            "Gen 18: Best Fitness = (0.0, 0.9888059701492538, 0.039313577139178074)\n",
            "Gen 19: Best Fitness = (0.0, 0.9888059701492538, 0.039313577139178074)\n",
            "Gen 20: Best Fitness = (0.0, 0.9888059701492538, 0.039313577139178074)\n",
            "Gen 21: Best Fitness = (0.0, 0.9888059701492538, 0.039313577139178074)\n",
            "Gen 22: Best Fitness = (0.0, 0.9738805970149254, 0.07967374727097198)\n",
            "Gen 23: Best Fitness = (0.0, 0.9925373134328358, 0.027855057064218574)\n",
            "Gen 24: Best Fitness = (0.0, 0.9888059701492538, 0.039313577139178074)\n",
            "Gen 25: Best Fitness = (0.0, 0.996268656716418, 0.015333447849256972)\n",
            "Gen 26: Best Fitness = (0.0, 1.0, 0.0)\n",
            "Gen 27: Best Fitness = (0.0, 0.9925373134328358, 0.027855057064218574)\n",
            "Gen 28: Best Fitness = (0.0, 0.996268656716418, 0.015333447849256972)\n",
            "Gen 29: Best Fitness = (0.0, 1.0, 0.0)\n",
            "Gen 30: Best Fitness = (0.0, 0.9925373134328358, 0.027855057064218574)\n",
            "Gen 31: Best Fitness = (0.0, 1.0, 0.0)\n",
            "Gen 32: Best Fitness = (0.0, 1.0, 0.0)\n",
            "Gen 33: Best Fitness = (0.0, 1.0, 0.0)\n",
            "Gen 34: Best Fitness = (0.0, 1.0, 0.0)\n",
            "Gen 35: Best Fitness = (0.0, 1.0, 0.0)\n",
            "Gen 36: Best Fitness = (0.0, 0.9888059701492538, 0.039313577139178074)\n",
            "Gen 37: Best Fitness = (0.0, 1.0, 0.0)\n",
            "Gen 38: Best Fitness = (0.0, 1.0, 0.0)\n",
            "Gen 39: Best Fitness = (0.0, 0.9626865671641791, 0.10654945680533698)\n"
          ]
        }
      ],
      "source": [
        "# population = toolbox.population(n=100)\n",
        "\n",
        "# # Run the custom evolutionary algorithm\n",
        "# ngen = 20  # Number of generations\n",
        "# cxpb = 0.7  # Crossover probability\n",
        "# mutpb = 0.3  # Mutation probability\n",
        "# final_population, pareto_front = custom_evolution(population, toolbox, ngen, cxpb, mutpb)\n",
        "\n",
        "final_population = run_gp()\n",
        "\n",
        "# Step 7: Extract Pareto front\n",
        "pareto_front = tools.sortNondominated(final_population, len(final_population), first_front_only=True)[0]\n"
      ]
    },
    {
      "cell_type": "code",
      "source": [
        "# Extract FPR and FNR for Pareto front individuals\n",
        "fpr_values = [ind.fitness.values[0] for ind in pareto_front]\n",
        "fnr_values = [ind.fitness.values[1] for ind in pareto_front]\n",
        "\n",
        "# Plot the Pareto front\n",
        "# plt.scatter(fpr_values, fnr_values, c=\"red\", label=\"Pareto Front\")\n",
        "\n",
        "# to do the actual visual border:\n",
        "# Sort the combined list based on FNR (or FPR if needed)\n",
        "combined = sorted(zip(fpr_values, fnr_values))\n",
        "\n",
        "\n",
        "\n",
        "# =-========== CODE TO TRY TO MAKE THE GRAPH BETTER AND GRAPH ONLY STRICTLY BEST PARETO:\n",
        "# Extract strictly Pareto-optimal front\n",
        "pareto_front_graphed = []\n",
        "\n",
        "current_best_fnr = float(\"inf\")\n",
        "\n",
        "for fpr, fnr in combined:\n",
        "    if fnr < current_best_fnr:  # Ensures only strictly better FNR values are kept\n",
        "        pareto_front_graphed.append((fpr, fnr))\n",
        "        current_best_fnr = fnr\n",
        "\n",
        "# Add bounding points (0,1) and (1,0)\n",
        "pareto_front_graphed.insert(0, (0, 1))\n",
        "pareto_front_graphed.append((1, 0))\n",
        "\n",
        "# Unzip to separate lists\n",
        "fpr_pareto, fnr_pareto = zip(*pareto_front_graphed)\n",
        "\n",
        "# Unzip the sorted list back into separate lists (for later AUC manual calculation!)\n",
        "fpr_values_sorted, fnr_values_sorted = zip(*pareto_front_graphed)\n",
        "\n",
        "everything_but_pareto_front = list(set(combined) - set(pareto_front_graphed))\n",
        "fpr_everything, fnr_everything = zip(*everything_but_pareto_front) if everything_but_pareto_front else ([], [])\n",
        "\n",
        "# Plotting\n",
        "plt.scatter(fpr_pareto, fnr_pareto, c=\"red\", s=10, label=\"Pareto Optimal Individuals - %s\" % (len(pareto_front)-2))\n",
        "# plt.scatter(fpr_everything, fnr_everything, c=\"red\", s=10, label=\"Everything Else\")\n",
        "plt.plot(fpr_pareto, fnr_pareto, color='red', drawstyle='steps-post', label=\"Pareto Bounding Line\")\n",
        "plt.ylabel(\"False Negative Rate (FNR)\")\n",
        "plt.xlabel(\"False Positive Rate (FPR)\")\n",
        "\n",
        "\n",
        "# Add a vertical line at x = 0\n",
        "plt.axvline(x=0, color='gray', linestyle='--', linewidth=0.5)\n",
        "\n",
        "# Add a horizontal line at y = 0\n",
        "plt.axhline(y=0, color='gray', linestyle='--', linewidth=0.5)\n",
        "\n",
        "# AUC CALCULATION:\n",
        "\n",
        "# Sort the combined list based on FNR (or FPR if needed)\n",
        "combined_p = list(zip(fpr_pareto, fnr_pareto))\n",
        "combined_p.sort()\n",
        "\n",
        "# Unzip the sorted list back into separate lists\n",
        "fpr_values_sorted, fnr_values_sorted = zip(*combined_p)\n",
        "\n",
        "\n",
        "\n",
        "\n",
        "\"\"\"Calculate area under curve with least squares method\"\"\"\n",
        "AUC = np.sum(np.diff(fpr_values_sorted)*fnr_values_sorted[:-1])\n",
        "plt.title(f\"Pareto Optimal Front: AUC = {AUC:.6f}\")\n",
        "\n",
        "\n",
        "plt.legend()\n",
        "plt.show()\n",
        "\n",
        "print(f\"Number of Pareto-optimal individuals: {len(pareto_front)-2}\")\n",
        "\n",
        "# =================================================\n",
        "\n",
        "\n",
        "\n",
        "\n",
        "\n",
        "\n",
        "\n",
        "# # Unzip the sorted list back into separate lists\n",
        "# fpr_values_sorted, fnr_values_sorted = zip(*combined)\n",
        "\n",
        "# plt.plot(fpr_values_sorted, fnr_values_sorted, color='r', drawstyle='steps-post')\n",
        "# plt.ylabel(\"False Negative Rate (FNR)\")\n",
        "# plt.xlabel(\"False Positive Rate (FPR)\")\n",
        "\n",
        "\n",
        "# \"\"\"Calculate area under curve with least squares method\"\"\"\n",
        "\n",
        "# AUC = np.sum(np.diff(fpr_values_sorted)*fnr_values_sorted[:-1])\n",
        "# plt.title(\"Pareto Optimal Front: AUC = %s\" % AUC)\n",
        "\n",
        "# plt.legend()\n",
        "# plt.show()\n"
      ],
      "metadata": {
        "colab": {
          "base_uri": "https://localhost:8080/",
          "height": 490
        },
        "id": "YpOoMJJ_Codz",
        "outputId": "71211521-830b-49fb-ef40-02c6186e5942"
      },
      "execution_count": null,
      "outputs": [
        {
          "output_type": "display_data",
          "data": {
            "text/plain": [
              "<Figure size 640x480 with 1 Axes>"
            ],
            "image/png": "[encoded data removed]"
          },
          "metadata": {}
        },
        {
          "output_type": "stream",
          "name": "stdout",
          "text": [
            "Number of Pareto-optimal individuals: 36\n"
          ]
        }
      ]
    },
    {
      "cell_type": "code",
      "source": [
        "# Generate, using the best pareto individual, predictions on my VALIDATION SET.\n",
        "best_pareto_individual = pareto_front[0]\n",
        "best_func = toolbox.compile(expr=best_pareto_individual)\n",
        "predictions_VAL = np.array([best_func(*x) for x in X_val])\n",
        "predictions_VAL = (predictions_VAL > 0).astype(int)\n",
        "predictions_VAL\n",
        "\n",
        "# best_pareto_individual"
      ],
      "metadata": {
        "colab": {
          "base_uri": "https://localhost:8080/"
        },
        "id": "-wWijOZECruK",
        "outputId": "f474c972-8392-487c-9279-78b9ab467fb0"
      },
      "execution_count": null,
      "outputs": [
        {
          "output_type": "execute_result",
          "data": {
            "text/plain": [
              "array([0, 0, 0, 1, 1, 1, 1, 0, 1, 1, 0, 0, 1, 0, 0, 1, 0, 1, 0, 0, 0, 0,\n",
              "       1, 0, 0, 0, 0, 0, 0, 1, 0, 1, 0, 1, 0, 0, 0, 1, 1, 0, 0, 0, 0, 0,\n",
              "       1, 0, 0, 0, 0, 0, 1, 1, 0, 0, 0, 1, 0, 1, 1, 1, 0, 1, 1, 0, 0, 1,\n",
              "       0, 0, 0, 1, 1, 1, 0, 1, 0, 0, 1, 1, 1, 1, 0, 1, 1, 0, 0, 0, 1, 1,\n",
              "       0, 0, 0, 1, 0, 0, 0, 0, 0, 0, 1, 0, 0, 0, 1, 0, 0, 0, 1, 0, 0, 0,\n",
              "       1, 0, 1, 0, 0, 0, 0, 0, 1, 1, 0, 1, 1, 0, 0, 0, 1, 0, 1, 0, 1, 0,\n",
              "       0, 1, 0, 1, 1, 0, 0, 1, 0, 1, 0, 0, 1, 1, 0, 0, 1, 0, 0, 0, 0, 1,\n",
              "       0, 0, 0, 1, 1, 1, 0, 0, 0, 1, 0, 0, 0, 1, 0, 0, 0, 1, 0, 1, 0, 0,\n",
              "       1, 1, 1])"
            ]
          },
          "metadata": {},
          "execution_count": 100
        }
      ]
    },
    {
      "cell_type": "code",
      "source": [
        "# accuracy score based on MOGP's predictions on the VALIDATION SET.\n",
        "accuracy = accuracy_score(y_val, predictions_VAL)\n",
        "print(f\"Accuracy: {accuracy}\")\n"
      ],
      "metadata": {
        "colab": {
          "base_uri": "https://localhost:8080/"
        },
        "id": "u4jZkp0RINRr",
        "outputId": "bfd36776-3bb1-40ce-f4a2-9d12d2716030"
      },
      "execution_count": null,
      "outputs": [
        {
          "output_type": "stream",
          "name": "stdout",
          "text": [
            "Accuracy: 0.7821229050279329\n"
          ]
        }
      ]
    },
    {
      "cell_type": "code",
      "source": [
        "# FINAL STEP: Output predictions based on TEST.CSV.\n",
        "predictions_TEST = np.array([best_func(*x) for x in test_data])\n",
        "predictions_TEST = (predictions_TEST > 0).astype(int)\n",
        "# binary classification as final output relies on either YES or NO SURVIVAL.\n",
        "predictions_TEST"
      ],
      "metadata": {
        "colab": {
          "base_uri": "https://localhost:8080/"
        },
        "id": "-e0Ahfp0YOTm",
        "outputId": "53e5092a-b256-4a3a-feaf-48bf579de385"
      },
      "execution_count": null,
      "outputs": [
        {
          "output_type": "execute_result",
          "data": {
            "text/plain": [
              "array([0, 1, 0, 0, 1, 0, 1, 0, 1, 0, 0, 0, 1, 0, 1, 1, 0, 0, 1, 1, 0, 0,\n",
              "       1, 0, 1, 0, 1, 0, 0, 0, 0, 0, 1, 1, 0, 0, 1, 1, 0, 0, 0, 0, 0, 1,\n",
              "       1, 0, 0, 0, 1, 1, 0, 0, 1, 1, 0, 0, 0, 0, 0, 1, 0, 0, 0, 1, 0, 1,\n",
              "       1, 0, 0, 1, 1, 0, 1, 0, 1, 0, 0, 1, 0, 1, 0, 0, 0, 0, 0, 0, 1, 1,\n",
              "       1, 0, 1, 0, 1, 0, 0, 0, 1, 0, 1, 0, 1, 0, 0, 0, 1, 0, 0, 0, 0, 0,\n",
              "       0, 1, 1, 1, 1, 0, 0, 1, 0, 1, 1, 0, 1, 0, 0, 1, 0, 1, 0, 0, 0, 0,\n",
              "       1, 0, 0, 0, 0, 0, 1, 0, 1, 1, 0, 0, 0, 0, 0, 0, 0, 0, 1, 0, 0, 1,\n",
              "       0, 0, 1, 1, 0, 1, 1, 0, 1, 0, 0, 1, 0, 0, 1, 1, 0, 0, 0, 0, 0, 1,\n",
              "       1, 0, 1, 1, 0, 0, 1, 0, 1, 0, 1, 0, 0, 0, 0, 0, 0, 0, 0, 0, 0, 1,\n",
              "       0, 1, 1, 0, 0, 1, 0, 0, 1, 0, 1, 0, 0, 0, 0, 1, 1, 0, 1, 0, 1, 0,\n",
              "       1, 0, 1, 0, 1, 1, 0, 1, 0, 0, 0, 1, 0, 0, 0, 0, 0, 0, 1, 1, 1, 1,\n",
              "       0, 0, 0, 0, 1, 0, 1, 1, 1, 0, 0, 0, 0, 0, 0, 0, 1, 0, 0, 0, 1, 1,\n",
              "       0, 0, 0, 0, 1, 0, 0, 0, 1, 1, 0, 1, 0, 0, 0, 0, 1, 0, 1, 1, 1, 0,\n",
              "       0, 0, 0, 0, 0, 1, 0, 0, 0, 0, 1, 0, 0, 0, 0, 0, 0, 0, 1, 1, 0, 0,\n",
              "       0, 1, 0, 0, 0, 1, 1, 1, 0, 0, 0, 0, 0, 0, 0, 0, 1, 0, 1, 0, 0, 0,\n",
              "       1, 0, 0, 1, 0, 0, 0, 0, 0, 0, 0, 0, 0, 1, 0, 1, 0, 1, 0, 1, 1, 0,\n",
              "       0, 0, 1, 0, 1, 0, 0, 1, 1, 1, 1, 0, 1, 1, 0, 1, 1, 0, 0, 1, 0, 0,\n",
              "       1, 1, 1, 0, 0, 0, 0, 0, 1, 1, 0, 1, 0, 0, 0, 0, 0, 1, 0, 0, 0, 1,\n",
              "       0, 1, 0, 0, 1, 0, 1, 0, 0, 0, 0, 0, 1, 1, 1, 1, 1, 0, 1, 0, 0, 0])"
            ]
          },
          "metadata": {},
          "execution_count": 52
        }
      ]
    },
    {
      "cell_type": "code",
      "source": [
        "# Initialize an empty list to store predictions for each Pareto individual\n",
        "predictions_all = []\n",
        "\n",
        "# Loop through each Pareto individual\n",
        "for pareto_individual in pareto_front:\n",
        "    best_func = toolbox.compile(expr=pareto_individual)\n",
        "    predictions = np.array([best_func(*x) for x in test_data])\n",
        "    predictions = (predictions > 0).astype(int)\n",
        "    predictions_all.append(predictions)\n",
        "\n",
        "# Convert the list of predictions to a numpy array\n",
        "predictions_all = np.column_stack(predictions_all)\n",
        "\n",
        "# Convert predictions_all to a pandas DataFrame for easy manipulation and viewing\n",
        "import pandas as pd\n",
        "predictions_df = pd.DataFrame(predictions_all, columns=[f'Pareto_{i+1}' for i in range(predictions_all.shape[1])])\n",
        "\n",
        "# Display the DataFrame containing predictions for ALL Pareto individuals\n",
        "print(predictions_df)"
      ],
      "metadata": {
        "colab": {
          "base_uri": "https://localhost:8080/"
        },
        "id": "VSoTdkmCmMba",
        "outputId": "18121a01-c533-4f7f-f5ab-c75eef459336"
      },
      "execution_count": null,
      "outputs": [
        {
          "output_type": "stream",
          "name": "stdout",
          "text": [
            "     Pareto_1  Pareto_2  Pareto_3  Pareto_4  Pareto_5  Pareto_6  Pareto_7  \\\n",
            "0           0         0         0         1         1         0         0   \n",
            "1           1         1         0         1         0         1         0   \n",
            "2           0         1         1         1         0         0         0   \n",
            "3           0         0         0         1         0         0         0   \n",
            "4           1         1         0         1         0         1         0   \n",
            "..        ...       ...       ...       ...       ...       ...       ...   \n",
            "413         0         0         0         1         0         0         0   \n",
            "414         1         1         1         1         1         1         0   \n",
            "415         0         0         0         1         0         0         1   \n",
            "416         0         0         0         1         0         0         0   \n",
            "417         0         0         0         1         1         0         0   \n",
            "\n",
            "     Pareto_8  Pareto_9  Pareto_10  ...  Pareto_26  Pareto_27  Pareto_28  \\\n",
            "0           0         0          0  ...          0          0          1   \n",
            "1           0         0          0  ...          0          0          1   \n",
            "2           1         0          0  ...          1          1          0   \n",
            "3           0         0          0  ...          1          0          1   \n",
            "4           0         1          0  ...          1          0          0   \n",
            "..        ...       ...        ...  ...        ...        ...        ...   \n",
            "413         0         0          0  ...          1          0          1   \n",
            "414         1         1          0  ...          1          1          0   \n",
            "415         0         0          0  ...          0          1          0   \n",
            "416         0         0          0  ...          1          0          1   \n",
            "417         0         1          0  ...          1          0          1   \n",
            "\n",
            "     Pareto_29  Pareto_30  Pareto_31  Pareto_32  Pareto_33  Pareto_34  \\\n",
            "0            0          1          0          0          0          1   \n",
            "1            0          1          0          0          0          1   \n",
            "2            0          1          0          0          0          1   \n",
            "3            0          1          0          0          0          1   \n",
            "4            0          1          0          0          1          1   \n",
            "..         ...        ...        ...        ...        ...        ...   \n",
            "413          0          1          0          0          0          1   \n",
            "414          1          1          0          1          0          1   \n",
            "415          0          1          0          0          0          1   \n",
            "416          0          1          0          0          0          1   \n",
            "417          0          1          0          1          1          1   \n",
            "\n",
            "     Pareto_35  \n",
            "0            1  \n",
            "1            1  \n",
            "2            1  \n",
            "3            1  \n",
            "4            1  \n",
            "..         ...  \n",
            "413          1  \n",
            "414          1  \n",
            "415          1  \n",
            "416          1  \n",
            "417          1  \n",
            "\n",
            "[418 rows x 35 columns]\n"
          ]
        }
      ]
    },
    {
      "cell_type": "code",
      "source": [
        "# EXPORT PREDICTIONS_TEST TO CSV.\n",
        "# output_df = pd.DataFrame(predictions_df, columns=[\"Survived\"])\n",
        "predictions_df.to_csv(\"predictions.csv\", index=False)\n",
        "\n",
        "\n",
        "\n",
        "\n",
        "\n",
        "\n",
        "\n",
        "\n",
        "\n",
        "\n",
        "\n"
      ],
      "metadata": {
        "id": "kW5Sd1kCZR4-"
      },
      "execution_count": null,
      "outputs": []
    },
    {
      "cell_type": "markdown",
      "source": [
        "DONE.\n",
        "\n",
        "\n",
        "\n",
        "\n",
        "\n",
        "\n",
        "\n",
        "_______"
      ],
      "metadata": {
        "id": "ecww0d11a7df"
      }
    },
    {
      "cell_type": "markdown",
      "source": [
        "_"
      ],
      "metadata": {
        "id": "4x6D3TD3a9h9"
      }
    },
    {
      "cell_type": "code",
      "execution_count": null,
      "metadata": {
        "id": "5bU1iGxwphMa"
      },
      "outputs": [],
      "source": [
        "# Fitness function\n",
        "def fitness(individual, X, y):\n",
        "  # overall comparison of evaluated X vs actual Y.\n",
        "    predictions = np.array([evaluate_individual(individual, x) for x in X])\n",
        "    predictions = (predictions > 0).astype(int)\n",
        "    return np.mean(predictions == y)\n",
        "\n",
        "# Genetic operations: MUTATE AND CROSSOVER ARE THE ONES WE LEARNED\n",
        "# def mutate(individual, max_depth):\n",
        "#     if random.random() < 0.1:\n",
        "#         return generate_individual(max_depth)\n",
        "#     else:\n",
        "#         if isinstance(individual, list):\n",
        "#             return [individual[0], mutate(individual[1], max_depth), mutate(individual[2], max_depth)]\n",
        "#         else:\n",
        "#             return individual\n",
        "def mutate(individual, max_depth, mutation_rate=0.1):\n",
        "    if random.random() < mutation_rate:\n",
        "        # Replace the individual with a new random individual\n",
        "        return generate_individual(max_depth)\n",
        "    else:\n",
        "        if isinstance(individual, list):\n",
        "            # Determine if the tree is binary or unary\n",
        "            is_binary = len(individual) == 3  # Binary trees have 3 elements: [func, arg1, arg2]\n",
        "\n",
        "            if is_binary:\n",
        "                # Mutate both arguments for binary trees\n",
        "                return [individual[0], mutate(individual[1], max_depth, mutation_rate), mutate(individual[2], max_depth, mutation_rate)]\n",
        "            else:\n",
        "                # Mutate the single argument for unary trees\n",
        "                return [individual[0], mutate(individual[1], max_depth, mutation_rate)]\n",
        "        else:\n",
        "            # If it's a terminal, return it unchanged\n",
        "            return individual\n",
        "\n",
        "def crossover(ind1, ind2):\n",
        "  #THIS IS FOR ONLY UNARY OPERATORS: I NEED TO HANDLE BOTH OEN AND TWO ARGUMENTS.\n",
        "    if isinstance(ind1, list) and isinstance(ind2, list):\n",
        "        # swaps off indices at random timings (see the else loop)\n",
        "        # Determine if the trees are binary or unary\n",
        "        is_ind1_binary = len(ind1) == 3  # Binary trees have 3 elements: [func, arg1, arg2]\n",
        "        is_ind2_binary = len(ind2) == 3\n",
        "\n",
        "        if is_ind1_binary and is_ind2_binary:\n",
        "            # Both trees are binary: perform standard crossover\n",
        "            return [ind1[0], crossover(ind1[1], ind2[2]), crossover(ind1[2], ind2[1])]\n",
        "        elif is_ind1_binary and not is_ind2_binary:\n",
        "            # ind1 is binary, ind2 is unary: swap one argument\n",
        "            return [ind1[0], crossover(ind1[1], ind2[1]), ind1[2]]\n",
        "        elif not is_ind1_binary and is_ind2_binary:\n",
        "            # ind1 is unary, ind2 is binary: swap one argument\n",
        "            return [ind1[0], crossover(ind1[1], ind2[1])]\n",
        "        else:\n",
        "            # Both trees are unary: swap arguments\n",
        "            return [ind1[0], crossover(ind1[1], ind2[1])]\n",
        "        # return [ind1[0], crossover(ind1[1], ind2[2]), crossover(ind1[2], ind2[1])]\n",
        "    else:\n",
        "        return ind1 if random.random() < 0.5 else ind2\n"
      ]
    },
    {
      "cell_type": "code",
      "execution_count": null,
      "metadata": {
        "id": "xUx56kWop4L3"
      },
      "outputs": [],
      "source": [
        "# the actual GP programming function\n",
        "def genetic_programming(pop_size, max_depth, generations, X_train, y_train):\n",
        "    population = [generate_individual(max_depth) for _ in range(pop_size)]\n",
        "\n",
        "    for gen in range(generations):\n",
        "        fitness_scores = [fitness(ind, X_train, y_train) for ind in population]\n",
        "        best_ind = population[np.argmax(fitness_scores)]\n",
        "        print(f\"Generation {gen}, Best Fitness: {max(fitness_scores)}\")\n",
        "\n",
        "        new_population = [best_ind]\n",
        "\n",
        "        while len(new_population) < pop_size:\n",
        "            parent1 = random.choice(population)\n",
        "            parent2 = random.choice(population)\n",
        "            child = crossover(parent1, parent2)\n",
        "            child = mutate(child, max_depth)\n",
        "            new_population.append(child)\n",
        "\n",
        "        population = new_population\n",
        "\n",
        "    return population[np.argmax(fitness_scores)]\n"
      ]
    },
    {
      "cell_type": "code",
      "execution_count": null,
      "metadata": {
        "colab": {
          "base_uri": "https://localhost:8080/",
          "height": 304
        },
        "id": "M1_C1WmQp84T",
        "outputId": "11601e63-9f08-4d7c-cfec-2f8f3db823ce"
      },
      "outputs": [
        {
          "output_type": "error",
          "ename": "NameError",
          "evalue": "name 'generate_individual' is not defined",
          "traceback": [
            "\u001b[0;31m---------------------------------------------------------------------------\u001b[0m",
            "\u001b[0;31mNameError\u001b[0m                                 Traceback (most recent call last)",
            "\u001b[0;32m<ipython-input-119-55b6841956f3>\u001b[0m in \u001b[0;36m<cell line: 0>\u001b[0;34m()\u001b[0m\n\u001b[1;32m      1\u001b[0m \u001b[0;31m# run it\u001b[0m\u001b[0;34m\u001b[0m\u001b[0;34m\u001b[0m\u001b[0m\n\u001b[0;32m----> 2\u001b[0;31m \u001b[0mbest_individual\u001b[0m \u001b[0;34m=\u001b[0m \u001b[0mgenetic_programming\u001b[0m\u001b[0;34m(\u001b[0m\u001b[0mpop_size\u001b[0m\u001b[0;34m=\u001b[0m\u001b[0;36m100\u001b[0m\u001b[0;34m,\u001b[0m \u001b[0mmax_depth\u001b[0m\u001b[0;34m=\u001b[0m\u001b[0;36m10\u001b[0m\u001b[0;34m,\u001b[0m \u001b[0mgenerations\u001b[0m\u001b[0;34m=\u001b[0m\u001b[0;36m15\u001b[0m\u001b[0;34m,\u001b[0m \u001b[0mX_train\u001b[0m\u001b[0;34m=\u001b[0m\u001b[0mX_train\u001b[0m\u001b[0;34m,\u001b[0m \u001b[0my_train\u001b[0m\u001b[0;34m=\u001b[0m\u001b[0my_train\u001b[0m\u001b[0;34m)\u001b[0m\u001b[0;34m\u001b[0m\u001b[0;34m\u001b[0m\u001b[0m\n\u001b[0m",
            "\u001b[0;32m<ipython-input-118-ed212f782b2d>\u001b[0m in \u001b[0;36mgenetic_programming\u001b[0;34m(pop_size, max_depth, generations, X_train, y_train)\u001b[0m\n\u001b[1;32m      1\u001b[0m \u001b[0;31m# the actual GP programming function\u001b[0m\u001b[0;34m\u001b[0m\u001b[0;34m\u001b[0m\u001b[0m\n\u001b[1;32m      2\u001b[0m \u001b[0;32mdef\u001b[0m \u001b[0mgenetic_programming\u001b[0m\u001b[0;34m(\u001b[0m\u001b[0mpop_size\u001b[0m\u001b[0;34m,\u001b[0m \u001b[0mmax_depth\u001b[0m\u001b[0;34m,\u001b[0m \u001b[0mgenerations\u001b[0m\u001b[0;34m,\u001b[0m \u001b[0mX_train\u001b[0m\u001b[0;34m,\u001b[0m \u001b[0my_train\u001b[0m\u001b[0;34m)\u001b[0m\u001b[0;34m:\u001b[0m\u001b[0;34m\u001b[0m\u001b[0;34m\u001b[0m\u001b[0m\n\u001b[0;32m----> 3\u001b[0;31m     \u001b[0mpopulation\u001b[0m \u001b[0;34m=\u001b[0m \u001b[0;34m[\u001b[0m\u001b[0mgenerate_individual\u001b[0m\u001b[0;34m(\u001b[0m\u001b[0mmax_depth\u001b[0m\u001b[0;34m)\u001b[0m \u001b[0;32mfor\u001b[0m \u001b[0m_\u001b[0m \u001b[0;32min\u001b[0m \u001b[0mrange\u001b[0m\u001b[0;34m(\u001b[0m\u001b[0mpop_size\u001b[0m\u001b[0;34m)\u001b[0m\u001b[0;34m]\u001b[0m\u001b[0;34m\u001b[0m\u001b[0;34m\u001b[0m\u001b[0m\n\u001b[0m\u001b[1;32m      4\u001b[0m \u001b[0;34m\u001b[0m\u001b[0m\n\u001b[1;32m      5\u001b[0m     \u001b[0;32mfor\u001b[0m \u001b[0mgen\u001b[0m \u001b[0;32min\u001b[0m \u001b[0mrange\u001b[0m\u001b[0;34m(\u001b[0m\u001b[0mgenerations\u001b[0m\u001b[0;34m)\u001b[0m\u001b[0;34m:\u001b[0m\u001b[0;34m\u001b[0m\u001b[0;34m\u001b[0m\u001b[0m\n",
            "\u001b[0;32m<ipython-input-118-ed212f782b2d>\u001b[0m in \u001b[0;36m<listcomp>\u001b[0;34m(.0)\u001b[0m\n\u001b[1;32m      1\u001b[0m \u001b[0;31m# the actual GP programming function\u001b[0m\u001b[0;34m\u001b[0m\u001b[0;34m\u001b[0m\u001b[0m\n\u001b[1;32m      2\u001b[0m \u001b[0;32mdef\u001b[0m \u001b[0mgenetic_programming\u001b[0m\u001b[0;34m(\u001b[0m\u001b[0mpop_size\u001b[0m\u001b[0;34m,\u001b[0m \u001b[0mmax_depth\u001b[0m\u001b[0;34m,\u001b[0m \u001b[0mgenerations\u001b[0m\u001b[0;34m,\u001b[0m \u001b[0mX_train\u001b[0m\u001b[0;34m,\u001b[0m \u001b[0my_train\u001b[0m\u001b[0;34m)\u001b[0m\u001b[0;34m:\u001b[0m\u001b[0;34m\u001b[0m\u001b[0;34m\u001b[0m\u001b[0m\n\u001b[0;32m----> 3\u001b[0;31m     \u001b[0mpopulation\u001b[0m \u001b[0;34m=\u001b[0m \u001b[0;34m[\u001b[0m\u001b[0mgenerate_individual\u001b[0m\u001b[0;34m(\u001b[0m\u001b[0mmax_depth\u001b[0m\u001b[0;34m)\u001b[0m \u001b[0;32mfor\u001b[0m \u001b[0m_\u001b[0m \u001b[0;32min\u001b[0m \u001b[0mrange\u001b[0m\u001b[0;34m(\u001b[0m\u001b[0mpop_size\u001b[0m\u001b[0;34m)\u001b[0m\u001b[0;34m]\u001b[0m\u001b[0;34m\u001b[0m\u001b[0;34m\u001b[0m\u001b[0m\n\u001b[0m\u001b[1;32m      4\u001b[0m \u001b[0;34m\u001b[0m\u001b[0m\n\u001b[1;32m      5\u001b[0m     \u001b[0;32mfor\u001b[0m \u001b[0mgen\u001b[0m \u001b[0;32min\u001b[0m \u001b[0mrange\u001b[0m\u001b[0;34m(\u001b[0m\u001b[0mgenerations\u001b[0m\u001b[0;34m)\u001b[0m\u001b[0;34m:\u001b[0m\u001b[0;34m\u001b[0m\u001b[0;34m\u001b[0m\u001b[0m\n",
            "\u001b[0;31mNameError\u001b[0m: name 'generate_individual' is not defined"
          ]
        }
      ],
      "source": [
        "# run it\n",
        "best_individual = genetic_programming(pop_size=100, max_depth=10, generations=15, X_train=X_train, y_train=y_train)"
      ]
    },
    {
      "cell_type": "code",
      "execution_count": null,
      "metadata": {
        "id": "EW6oQnqA_QhX"
      },
      "outputs": [],
      "source": [
        "# predictions on Test data!!\n",
        "test_pred = np.array([evaluate_individual(best_individual, x) for x in test_data])\n",
        "test_pred = (test_pred > 0).astype(int)\n",
        "test_pred"
      ]
    },
    {
      "cell_type": "code",
      "execution_count": null,
      "metadata": {
        "id": "948Ymdgvh-Rg"
      },
      "outputs": [],
      "source": []
    },
    {
      "cell_type": "code",
      "execution_count": null,
      "metadata": {
        "id": "oTu-GepA5ZDP"
      },
      "outputs": [],
      "source": [
        "from sklearn.metrics import mean_absolute_error"
      ]
    },
    {
      "cell_type": "code",
      "execution_count": null,
      "metadata": {
        "id": "_MANTGWu_aLe"
      },
      "outputs": [],
      "source": [
        "# save the results to a csv.\n",
        "test_data[\"Survived\"] = test_pred\n",
        "# test_data[[\"PassengerId\", \"Survived\"]].to_csv(\"submission.csv\", index=False)"
      ]
    },
    {
      "cell_type": "code",
      "execution_count": null,
      "metadata": {
        "id": "tNdUtzJYTDXq"
      },
      "outputs": [],
      "source": []
    },
    {
      "cell_type": "code",
      "execution_count": null,
      "metadata": {
        "id": "duGSCtcjTDVo"
      },
      "outputs": [],
      "source": []
    },
    {
      "cell_type": "markdown",
      "metadata": {
        "id": "q69pyrW_S7GK"
      },
      "source": [
        "EVERYTHING BELOW THIS IS FROM THE ML MODEL, IGNORE (here for reference only)\n",
        "\n",
        "\n",
        "\n",
        "\n",
        "\n",
        "\n",
        "\n",
        "---\n",
        "\n",
        "\n",
        "\n",
        "\n",
        "\n",
        "\n",
        "\n"
      ]
    },
    {
      "cell_type": "code",
      "execution_count": null,
      "metadata": {
        "id": "ybdCbF6C_wjU"
      },
      "outputs": [],
      "source": [
        "import numpy as np\n",
        "import matplotlib.pyplot as plt\n",
        "\n",
        "# FOR PARETO GRAPH THINGY\n",
        "def find_pareto(data):\n",
        "  is_pareto = np.ones(data.shape[0], dtype=bool)\n",
        "  for i, c in enumerate(data):\n",
        "    # keep any point with a LOWER cost.\n",
        "    if is_pareto[i]:\n",
        "      # change for minimization\n",
        "\n",
        "      # actual mini\n",
        "      is_pareto[is_pareto] = np.any(data[is_pareto] < c, axis=1)  # Keep any point with a lower cost\n",
        "      # if maximizing:\n",
        "      # is_pareto[is_pareto] = np.any(data[is_pareto]>c, axis=1)\n",
        "      is_pareto[i] = True  # And keep self\n",
        "\n",
        "  pareto_data = data[is_pareto, :]\n",
        "\n",
        "  # sort data\n",
        "  pareto_out = pareto_data[np.argsort(pareto_data[:,0])]\n",
        "\n",
        "  return pareto_out"
      ]
    },
    {
      "cell_type": "code",
      "execution_count": null,
      "metadata": {
        "id": "2D88clHnAgZK"
      },
      "outputs": [],
      "source": [
        "# AUC CALCULATION.\n",
        "N = 20\n",
        "myData = np.random.random((N,2))\n",
        "\n",
        "myData = np.vstack(([[0,1], [1,0]], myData))\n",
        "\n",
        "myPareto = find_pareto(myData)\n",
        "\n",
        "# AUC under curve as riemann sum\n",
        "auc = np.sum(np.diff(myPareto[:,0])*myPareto[0:-1, 1])\n",
        "\n",
        "# figure\n",
        "plt.figure()\n",
        "\n",
        "plt.rcParams.update({'font.size': 16})\n",
        "\n",
        "plt.scatter(myData[:,0], myData[:,1],)\n",
        "\n",
        "# plot pareto steps.\n",
        "plt.step(myPareto[:,0], myPareto[:,1], where=\"post\")\n",
        "\n",
        "plt.title(\"EX of MIN w/ AUC = \" + str(auc))\n",
        "\n",
        "plt.xlabel(\"false negative\")\n",
        "plt.ylabel(\"false positive\")\n",
        "\n",
        "plt.show()\n",
        "\n",
        "# if 0, and 1\n",
        "if predict 1 and actually 0 it is false"
      ]
    },
    {
      "cell_type": "code",
      "execution_count": null,
      "metadata": {
        "id": "dEcZwI_XBeIP"
      },
      "outputs": [],
      "source": [
        "myData"
      ]
    },
    {
      "cell_type": "code",
      "execution_count": null,
      "metadata": {
        "id": "jPaqJtpbIEDe"
      },
      "outputs": [],
      "source": [
        "random.seed(100)\n",
        "np.random.seed(100)\n",
        "## I DECIDED TO KEEP CABIN, SO THAT IS NO LONGER IN THESE DROP COMMANDS!\n",
        "train_data.drop(columns=['Name', 'Ticket', \"Cabin\"], inplace=True)\n",
        "train_data.set_index(keys=['PassengerId'], drop=True, inplace=True)\n",
        "\n",
        "test_data.drop(columns=['Name', 'Ticket', \"Cabin\"], inplace=True)\n",
        "test_data.set_index(keys=['PassengerId'], drop=True, inplace=True)\n",
        "\n",
        "train_nan_map = {'Age': train_data['Age'].mean(), 'Fare': train_data['Fare'].mean(), 'Embarked': train_data['Embarked'].mode()[0]}\n",
        "test_nan_map = {'Age': train_data['Age'].mean(), 'Fare': train_data['Fare'].mean(), 'Embarked': train_data['Embarked'].mode()[0]}\n",
        "\n",
        "train_data.fillna(value=train_nan_map, inplace=True)\n",
        "test_data.fillna(value=test_nan_map, inplace=True)\n",
        "\n",
        "columns_map = {'Embarked': {'C': 0, 'Q': 1, 'S': 2}, 'Sex': {'male': 0, 'female': 1}} # look into this; implicit issues\n",
        "# Adding below line to surpress deprication warnings\n",
        "pd.set_option('future.no_silent_downcasting', True)\n",
        "train_data.replace(columns_map, inplace=True)\n",
        "test_data.replace(columns_map, inplace=True)\n",
        "\n",
        "X_train = train_data.loc[:, train_data.columns != 'Survived']\n",
        "y_train = train_data.loc[:, 'Survived']\n",
        "\n",
        "X_train, X_test, y_train, y_test = train_test_split(X_train, y_train, test_size=0.33, random_state=10)\n"
      ]
    },
    {
      "cell_type": "code",
      "execution_count": null,
      "metadata": {
        "id": "Rwllb33ao3_G"
      },
      "outputs": [],
      "source": []
    },
    {
      "cell_type": "code",
      "execution_count": null,
      "metadata": {
        "id": "6aV245EkIEDf"
      },
      "outputs": [],
      "source": [
        "print(X_train.head())\n",
        "print(y_train.head())\n",
        "print(test_data.head())\n",
        "print(f\"Test Mean: {y_test.mean()}\")\n",
        "print(f\"Train Mean: {y_train.mean()}\")"
      ]
    },
    {
      "cell_type": "code",
      "execution_count": null,
      "metadata": {
        "id": "dxTKutfiIEDf"
      },
      "outputs": [],
      "source": [
        "train_data.columns[train_data.isna().any()].tolist()\n",
        "train_data[train_data['Embarked'].isna() == True]\n",
        "#train_data['Embarked']\n",
        "#test_data.columns[test_data.isna().any()].tolist()"
      ]
    },
    {
      "cell_type": "code",
      "execution_count": null,
      "metadata": {
        "id": "arrAx_nPGvUv"
      },
      "outputs": [],
      "source": [
        "train_data.head()\n",
        "# after all preprocessing, what does it look like?\n",
        "# train_data[\"Parch\"].unique()"
      ]
    },
    {
      "cell_type": "code",
      "execution_count": null,
      "metadata": {
        "id": "mScBvOzdIVBU"
      },
      "outputs": [],
      "source": [
        "print(f\"X_train shape: {X_train.shape}\")\n",
        "print(f\"y_train shape: {y_train.shape}\")"
      ]
    },
    {
      "cell_type": "code",
      "execution_count": null,
      "metadata": {
        "id": "LpytjW6Vdb_a"
      },
      "outputs": [],
      "source": [
        "\n",
        "\n",
        "\n",
        "\n",
        "\n",
        "\n",
        "\n",
        "\n",
        "\n",
        "\n",
        "\n",
        "\n",
        "\n",
        "\n",
        "\n",
        "\n",
        "\n",
        "\n"
      ]
    },
    {
      "cell_type": "code",
      "execution_count": null,
      "metadata": {
        "id": "WEnpy3q2r02p"
      },
      "outputs": [],
      "source": [
        "from sklearn.ensemble import RandomForestClassifier, GradientBoostingClassifier\n",
        "from sklearn.linear_model import LogisticRegression\n",
        "from sklearn.svm import SVC\n",
        "from sklearn.model_selection import cross_val_predict\n",
        "\n",
        "# Initialize base models\n",
        "rf = RandomForestClassifier(n_estimators=100, random_state=42)\n",
        "gb = GradientBoostingClassifier(n_estimators=100, random_state=42)\n",
        "svc = SVC(probability=True, random_state=42)\n",
        "\n",
        "# Train models\n",
        "rf.fit(X_train, y_train)\n",
        "gb.fit(X_train, y_train)\n",
        "svc.fit(X_train, y_train)"
      ]
    },
    {
      "cell_type": "code",
      "execution_count": null,
      "metadata": {
        "id": "Q-m8wCDJr-9I"
      },
      "outputs": [],
      "source": [
        "# Generate cross-validated predictions\n",
        "rf_preds = cross_val_predict(rf, X_train, y_train, cv=5, method='predict_proba')[:, 1]\n",
        "gb_preds = cross_val_predict(gb, X_train, y_train, cv=5, method='predict_proba')[:, 1]\n",
        "svc_preds = cross_val_predict(svc, X_train, y_train, cv=5, method='predict_proba')[:, 1]\n",
        "\n",
        "# Stack predictions into a new dataset\n",
        "import numpy as np\n",
        "meta_features = np.column_stack((rf_preds, gb_preds, svc_preds))\n"
      ]
    },
    {
      "cell_type": "code",
      "execution_count": null,
      "metadata": {
        "id": "1L3z7k7LsDXm"
      },
      "outputs": [],
      "source": [
        "meta_model = RandomForestClassifier(n_estimators=100, random_state=42)\n",
        "meta_model.fit(meta_features, y_train)"
      ]
    },
    {
      "cell_type": "code",
      "execution_count": null,
      "metadata": {
        "id": "LJUIkPk1sJUB"
      },
      "outputs": [],
      "source": [
        "# Generate predictions from base models on X_test\n",
        "rf_test_preds = rf.predict_proba(X_test)[:, 1]\n",
        "gb_test_preds = gb.predict_proba(X_test)[:, 1]\n",
        "svc_test_preds = svc.predict_proba(X_test)[:, 1]\n",
        "\n",
        "# Stack test set predictions\n",
        "meta_test_features = np.column_stack((rf_test_preds, gb_test_preds, svc_test_preds))\n",
        "\n",
        "# Final prediction\n",
        "final_predictions = meta_model.predict(meta_test_features)"
      ]
    },
    {
      "cell_type": "code",
      "execution_count": null,
      "metadata": {
        "id": "B7jKDZ7Yskpl"
      },
      "outputs": [],
      "source": [
        "# svm_clf.fit(X_train.values, y_train.values)\n",
        "# print(svm_clf.score(X_test.values, y_test.values))\n",
        "\n",
        "final_predictions"
      ]
    },
    {
      "cell_type": "code",
      "execution_count": null,
      "metadata": {
        "id": "kc5pxJa3tFm9"
      },
      "outputs": [],
      "source": [
        "matches = final_predictions == y_test.values\n",
        "print(f\"Accuracy: {matches.sum()/len(matches)}\")"
      ]
    },
    {
      "cell_type": "code",
      "execution_count": null,
      "metadata": {
        "id": "-kujFGtyvGNm"
      },
      "outputs": [],
      "source": [
        "from sklearn.ensemble import RandomForestClassifier, GradientBoostingClassifier\n",
        "from scipy.stats import randint\n",
        "from sklearn.model_selection import RandomizedSearchCV\n",
        "\n",
        "\n",
        "# Define hyperparameter grid for RandomForest\n",
        "rf_params = {\n",
        "    \"n_estimators\": randint(50, 200),\n",
        "    \"max_depth\": [None, 10, 20, 30],\n",
        "    \"min_samples_split\": randint(2, 10),\n",
        "}\n",
        "\n",
        "# Randomized search\n",
        "rf = RandomForestClassifier(random_state=42)\n",
        "rf_search = RandomizedSearchCV(rf, rf_params, n_iter=10, cv=5, random_state=42, n_jobs=-1)\n",
        "rf_search.fit(X_train, y_train)\n",
        "\n",
        "# Use best parameters\n",
        "best_rf = rf_search.best_estimator_\n",
        "print(\"Best Random Forest:\", rf_search.best_params_)"
      ]
    },
    {
      "cell_type": "code",
      "execution_count": null,
      "metadata": {
        "id": "ejVaOOzbvYPl"
      },
      "outputs": [],
      "source": [
        "best_rf.fit(X_train, y_train)\n",
        "best_rf.score(X_test, y_test)"
      ]
    },
    {
      "cell_type": "code",
      "execution_count": null,
      "metadata": {
        "id": "22-gUrsqzqb_"
      },
      "outputs": [],
      "source": [
        "y_pred = best_rf.predict(X_test)\n",
        "from sklearn.metrics import accuracy_score, confusion_matrix, classification_report\n",
        "y_truth = y_test.values\n"
      ]
    },
    {
      "cell_type": "code",
      "execution_count": null,
      "metadata": {
        "id": "TSV2WvYL0G_F"
      },
      "outputs": [],
      "source": [
        "tn, fp, fn, tp = confusion_matrix(y_truth, y_pred).ravel()\n",
        "print(\"Confusion Matrix\")\n",
        "print(confusion_matrix(y_truth, y_pred, labels=[0, 1]))\n",
        "print(\"\")\n",
        "print(\"True Negatives\", tn)\n",
        "print(\"False Positives\", fp)\n",
        "print(\"False Negatives\", fn)\n",
        "print(\"True Positives\", tp)"
      ]
    },
    {
      "cell_type": "code",
      "execution_count": null,
      "metadata": {
        "id": "GpDVFuM40MHL"
      },
      "outputs": [],
      "source": [
        "import itertools\n",
        "import matplotlib.pyplot as plt\n",
        "\n",
        "def plot_confusion_matrix(cm, classes,\n",
        "                          normalize=False,\n",
        "                          title='Confusion matrix',\n",
        "                          cmap=plt.cm.Blues):\n",
        "    \"\"\"\n",
        "    This function prints and plots the confusion matrix.\n",
        "    Normalization can be applied by setting `normalize=True`.\n",
        "    \"\"\"\n",
        "    if normalize:\n",
        "        cm = cm.astype('float') / cm.sum(axis=1)[:, np.newaxis]\n",
        "        print(\"Normalized confusion matrix\")\n",
        "    else:\n",
        "        print('Confusion matrix, without normalization')\n",
        "\n",
        "    print(cm)\n",
        "\n",
        "    plt.imshow(cm, interpolation='nearest', cmap=cmap)\n",
        "    plt.title(title)\n",
        "    plt.colorbar()\n",
        "    tick_marks = np.arange(len(classes))\n",
        "    plt.xticks(tick_marks, classes, rotation=45)\n",
        "    plt.yticks(tick_marks, classes)\n",
        "\n",
        "    fmt = '.2f' if normalize else 'd'\n",
        "    thresh = cm.max() / 2.\n",
        "    for i, j in itertools.product(range(cm.shape[0]), range(cm.shape[1])):\n",
        "        plt.text(j, i, format(cm[i, j], fmt),\n",
        "                 horizontalalignment=\"center\",\n",
        "                 color=\"white\" if cm[i, j] > thresh else \"black\")\n",
        "\n",
        "    plt.ylabel('True label')\n",
        "    plt.xlabel('Predicted label')\n",
        "    plt.tight_layout()\n",
        "\n",
        "\n",
        "# Compute confusion matrix\n",
        "cnf_matrix = confusion_matrix(y_truth, y_pred)\n",
        "class_names=['0', '1']\n",
        "np.set_printoptions(precision=2)\n",
        "\n",
        "# Plot non-normalized confusion matrix\n",
        "plt.figure()\n",
        "plot_confusion_matrix(cnf_matrix, classes=class_names,\n",
        "                      title='Confusion matrix, without normalization')\n",
        "\n",
        "plt.show()"
      ]
    },
    {
      "cell_type": "code",
      "execution_count": null,
      "metadata": {
        "id": "j9ogncy50by9"
      },
      "outputs": [],
      "source": [
        "predictions = best_rf.predict(test_data.values)\n",
        "predictions"
      ]
    },
    {
      "cell_type": "code",
      "execution_count": null,
      "metadata": {
        "id": "wohtllv70_ER"
      },
      "outputs": [],
      "source": [
        "pred_df = pd.DataFrame(predictions, index=test_data.index, columns=['Survived'])\n",
        "type(pred_df)\n",
        "pred_df"
      ]
    },
    {
      "cell_type": "code",
      "execution_count": null,
      "metadata": {
        "id": "twQREMmS1DZ-"
      },
      "outputs": [],
      "source": [
        "pred_df.to_csv('predictions.csv', header=True, sep=',')"
      ]
    },
    {
      "cell_type": "markdown",
      "metadata": {
        "id": "-Cs3iuKur4Ef"
      },
      "source": [
        "EVERYTHING ELSE BELOW THIS WAS TESTING:"
      ]
    },
    {
      "cell_type": "code",
      "execution_count": null,
      "metadata": {
        "id": "TV9bJw_pdnF0"
      },
      "outputs": [],
      "source": [
        "# from sklearn.linear_model import LogisticRegression\n",
        "# logreg = LogisticRegression(max_iter=1000, random_state=42)\n",
        "# logreg.fit(X_train, y_train)\n",
        "\n",
        "# y_pred = logreg.predict(X_test)\n",
        "# from sklearn.metrics import accuracy_score, confusion_matrix, classification_report\n",
        "# # print(\"Accuracy:\", accuracy_score(y_test, y_pred))\n",
        "# print(\"Confusion Matrix:\\n\", confusion_matrix(y_test, y_pred))\n",
        "# print(\"Classification Report:\\n\", classification_report(y_test, y_pred))\n"
      ]
    },
    {
      "cell_type": "code",
      "execution_count": null,
      "metadata": {
        "id": "NjiIkQSRd71_"
      },
      "outputs": [],
      "source": [
        "# # DEcision Tree Classifier?\n",
        "# from sklearn.tree import DecisionTreeClassifier\n",
        "# dtree = DecisionTreeClassifier(random_state=42)\n",
        "# dtree.fit(X_train, y_train)"
      ]
    },
    {
      "cell_type": "code",
      "execution_count": null,
      "metadata": {
        "id": "4tS89Tu8eGmT"
      },
      "outputs": [],
      "source": [
        "# score it again:\n",
        "y_pred = dtree.predict(X_test)\n",
        "print(\"Accuracy:\", accuracy_score(y_test, y_pred))"
      ]
    },
    {
      "cell_type": "code",
      "execution_count": null,
      "metadata": {
        "id": "905L4s_XeWgz"
      },
      "outputs": [],
      "source": [
        "#Try a randomForestClassifier:\n",
        "from sklearn.ensemble import RandomForestClassifier\n",
        "\n",
        "rforest = RandomForestClassifier(n_estimators=100, random_state=42)\n",
        "rforest.fit(X_train, y_train)\n",
        "rforest.score(X_test, y_test)"
      ]
    },
    {
      "cell_type": "code",
      "execution_count": null,
      "metadata": {
        "id": "ibV8fhWcem2a"
      },
      "outputs": [],
      "source": [
        "feature_importances = pd.DataFrame({\n",
        "    'Feature': X_train.columns,\n",
        "    'Importance': dtree.feature_importances_\n",
        "}).sort_values(by='Importance', ascending=False)\n",
        "print(feature_importances)"
      ]
    },
    {
      "cell_type": "code",
      "execution_count": null,
      "metadata": {
        "id": "xcDMS-sZezjW"
      },
      "outputs": [],
      "source": [
        "# choose best option:\n",
        "from sklearn.model_selection import GridSearchCV\n",
        "param_grid = {\n",
        "    'n_estimators': [100, 200, 300],\n",
        "    'max_depth': [None, 10, 20, 30]\n",
        "}\n",
        "grid_search = GridSearchCV(rforest, param_grid, cv=5, scoring='accuracy')\n",
        "grid_search.fit(X_train, y_train)\n",
        "print(\"Best Parameters:\", grid_search.best_params_)"
      ]
    },
    {
      "cell_type": "code",
      "execution_count": null,
      "metadata": {
        "id": "nTMKyiqte9KV"
      },
      "outputs": [],
      "source": [
        "best_model = grid_search.best_estimator_\n",
        "best_model.fit(X_train, y_train)"
      ]
    },
    {
      "cell_type": "code",
      "execution_count": null,
      "metadata": {
        "id": "xtzo6IwFfEUG"
      },
      "outputs": [],
      "source": [
        "best_model.score(X_test, y_test)"
      ]
    },
    {
      "cell_type": "code",
      "execution_count": null,
      "metadata": {
        "id": "POy6aBzTgT1p"
      },
      "outputs": [],
      "source": [
        "# from sklearn.preprocessing import OneHotEncoder\n",
        "\n",
        "# # Identify categorical columns\n",
        "# categorical_cols = ['Sex', 'Embarked']\n",
        "\n",
        "# # Apply OneHotEncoder\n",
        "# encoder = OneHotEncoder(handle_unknown='ignore', sparse_output=False)\n",
        "# X_train_encoded = encoder.fit_transform(X_train[categorical_cols])\n",
        "# X_test_encoded = encoder.transform(X_test[categorical_cols])\n",
        "# test_data_encoded = encoder.transform(test_data[categorical_cols])\n",
        "\n",
        "# # Convert to DataFrame\n",
        "# import pandas as pd\n",
        "# X_train_encoded = pd.DataFrame(X_train_encoded, index=X_train.index)\n",
        "# X_test_encoded = pd.DataFrame(X_test_encoded, index=X_test.index)\n",
        "# test_data_encoded = pd.DataFrame(test_data_encoded, index=test_data.index)\n",
        "\n",
        "# # Drop original categorical columns and concatenate new encoded ones\n",
        "# X_train = X_train.drop(columns=categorical_cols).reset_index(drop=True)\n",
        "# X_test = X_test.drop(columns=categorical_cols).reset_index(drop=True)\n",
        "# test_data = test_data.drop(columns=categorical_cols).reset_index(drop=True)\n",
        "\n",
        "X_train = pd.concat([X_train, X_train_encoded], axis=1)\n",
        "X_test = pd.concat([X_test, X_test_encoded], axis=1)\n",
        "test_data = pd.concat([test_data, test_data_encoded], axis=1)"
      ]
    },
    {
      "cell_type": "code",
      "execution_count": null,
      "metadata": {
        "id": "zOnHyDipiFzO"
      },
      "outputs": [],
      "source": [
        "y_train\n",
        "# y_train.shape"
      ]
    },
    {
      "cell_type": "code",
      "execution_count": null,
      "metadata": {
        "id": "Ta8DDNLIgKn4"
      },
      "outputs": [],
      "source": [
        "from xgboost import XGBClassifier\n",
        "xgb_model = XGBClassifier(eval_metric='logloss', random_state=42)\n",
        "xgb_model.fit(X_train, y_train)"
      ]
    },
    {
      "cell_type": "code",
      "execution_count": null,
      "metadata": {
        "id": "Jmhcq6hCgx2u"
      },
      "outputs": [],
      "source": [
        "y_train = y_train.values.ravel()"
      ]
    },
    {
      "cell_type": "code",
      "execution_count": null,
      "metadata": {
        "id": "MRNUrDiHkOjl"
      },
      "outputs": [],
      "source": [
        "import xgboost\n",
        "import sklearn\n",
        "\n",
        "print(f\"XGBoost version: {xgboost.__version__}\")\n",
        "print(f\"Scikit-learn version: {sklearn.__version__}\")"
      ]
    },
    {
      "cell_type": "code",
      "execution_count": null,
      "metadata": {
        "id": "3KzyRQElkT05"
      },
      "outputs": [],
      "source": [
        "!pip install --upgrade xgboost scikit-learn\n"
      ]
    },
    {
      "cell_type": "code",
      "execution_count": null,
      "metadata": {
        "id": "-_VJoxfyhIt1"
      },
      "outputs": [],
      "source": [
        "print(f\"X_train shape: {X_train.shape}\")\n",
        "print(f\"y_train shape: {y_train.shape}\")"
      ]
    },
    {
      "cell_type": "code",
      "execution_count": null,
      "metadata": {
        "id": "mSHL2r5UQBDg"
      },
      "outputs": [],
      "source": [
        "# check for the missing ages:\n",
        "ratio = np.round(train_data.Age.isna().sum()/len(train_data.index)*100, decimals=1)\n",
        "print('The percentage of missing ages is ', ratio,'%')\n",
        "train_data.Age.isna().sum()\n",
        "# train_data.count(1)\n",
        "train_data.Age[train_data.Age.isna()] = train_data.Age.mean() # replace non-ages with the average (HUGE assumption but better than having no age at all)"
      ]
    },
    {
      "cell_type": "code",
      "execution_count": null,
      "metadata": {
        "id": "758_A9FvQnyB"
      },
      "outputs": [],
      "source": [
        "sns.countplot(data=train_data,x='SibSp',hue=\"Survived\")\n",
        "train_data.SibSp.value_counts()"
      ]
    },
    {
      "cell_type": "code",
      "execution_count": null,
      "metadata": {
        "id": "jrkx3_uVVHSd"
      },
      "outputs": [],
      "source": [
        "# train_data.Parch.value_counts()\n",
        "\n",
        "train_data.Parch.clip(upper=2,inplace=True)\n",
        "oh= pd.get_dummies(train_data.Parch,prefix=\"Parch\")\n",
        "train_data = train_data.drop(labels='Parch',axis=1).join(oh)\n",
        "# essentially clip value of parch"
      ]
    },
    {
      "cell_type": "code",
      "execution_count": null,
      "metadata": {
        "id": "JXUkUctNVfKJ"
      },
      "outputs": [],
      "source": [
        "#normalize the fare!!!!\n",
        "train_data.Fare = (train_data.Fare-train_data.Fare.mean())/train_data.Fare.std()\n",
        "sns.kdeplot(data=train_data,x='Fare', shade=True,hue=\"Survived\")\n"
      ]
    },
    {
      "cell_type": "code",
      "execution_count": null,
      "metadata": {
        "id": "v7_NRz3ZVwaZ"
      },
      "outputs": [],
      "source": [
        "# Deal with Missing Cabin details:\n",
        "train_data.Cabin[train_data.Cabin.isna()]=\"U\""
      ]
    },
    {
      "cell_type": "code",
      "execution_count": null,
      "metadata": {
        "id": "ec5qshcgWq7r"
      },
      "outputs": [],
      "source": [
        "train_data.Cabin  = train_data.Cabin.str[0] # get the first letter\n",
        "train_data.Cabin.value_counts()"
      ]
    },
    {
      "cell_type": "code",
      "execution_count": null,
      "metadata": {
        "id": "9shKAvT7W0b_"
      },
      "outputs": [],
      "source": [
        "sns.countplot(data=train_data,x=train_data.Cabin,hue=\"Survived\")"
      ]
    },
    {
      "cell_type": "code",
      "execution_count": null,
      "metadata": {
        "id": "N8OZQn5iW94y"
      },
      "outputs": [],
      "source": [
        "# Chi squared test for each of the cabins:\n",
        "from scipy.stats import chi2_contingency\n",
        "y = train_data.Survived\n",
        "for letter in train_data.Cabin.unique():\n",
        "    cab_binary = train_data.Cabin==letter\n",
        "    contigency = pd.crosstab(cab_binary, y)\n",
        "    c, p, dof, expected = chi2_contingency(contigency)\n",
        "    p = np.round(p*100,decimals=3)\n",
        "    print('Chi2 test for the independence of Cabin = ',letter,'. p-value =',p,\"%\")"
      ]
    },
    {
      "cell_type": "code",
      "execution_count": null,
      "metadata": {
        "id": "m9QCUtnCXQT_"
      },
      "outputs": [],
      "source": [
        "# we can do one-hot encoding to make the cabins with more useful info stay while rejecting poorer p-values.\n",
        "oh = pd.get_dummies(train_data.Cabin,prefix=\"Cabin\")\n",
        "categories_to_drop = ['Cabin_'+i for i in ['G','A','F','T']]\n",
        "oh = oh.drop(labels = categories_to_drop, axis = 1)\n",
        "\n",
        "train_data = train_data.drop(labels='Cabin',axis=1).join(oh)"
      ]
    },
    {
      "cell_type": "code",
      "execution_count": null,
      "metadata": {
        "id": "aiQvjoedXj9p"
      },
      "outputs": [],
      "source": [
        "train_data.Embarked.value_counts()"
      ]
    },
    {
      "cell_type": "code",
      "execution_count": null,
      "metadata": {
        "id": "pdVLpcTGXn__"
      },
      "outputs": [],
      "source": [
        "oh= pd.get_dummies(train_data.Embarked,prefix=\"Embarked\")\n",
        "train_data = train_data.drop(labels='Embarked',axis=1).join(oh)\n",
        "# this is one hot encoding for embarked"
      ]
    },
    {
      "cell_type": "code",
      "execution_count": null,
      "metadata": {
        "id": "Jdb-S0XMXrBu"
      },
      "outputs": [],
      "source": [
        "train_data.info()\n",
        "train_data.corr()"
      ]
    },
    {
      "cell_type": "code",
      "execution_count": null,
      "metadata": {
        "id": "OS7ywtN3X7tD"
      },
      "outputs": [],
      "source": [
        "# mutual information score all our features, see if certain ones matter more (pca after?)\n",
        "from sklearn.feature_selection import mutual_info_regression\n",
        "\n",
        "def make_mi_scores(X, y):\n",
        "    X = X.copy()\n",
        "    # discrete_features = [X.columns.get_loc(column_name) for column_name in X.dtypes[X.dtypes=='uint8'].index]\n",
        "    # Modified line to include more dtypes for discrete features:\n",
        "    discrete_features = X.select_dtypes(include=['number', 'bool', 'object', 'category']).columns\n",
        "    # Get the column indices for discrete features:\n",
        "    discrete_features = [X.columns.get_loc(col) for col in discrete_features]\n",
        "    mi_scores = mutual_info_regression(X, y, discrete_features=discrete_features, random_state=0)\n",
        "    mi_scores = pd.Series(mi_scores, name=\"MI Scores\", index=X.columns)\n",
        "    mi_scores = mi_scores.sort_values(ascending=False)\n",
        "    return mi_scores\n",
        "\n",
        "\n",
        "def plot_mi_scores(scores):\n",
        "    scores = scores.sort_values(ascending=True)\n",
        "    width = np.arange(len(scores))\n",
        "    ticks = list(scores.index)\n",
        "    plt.barh(width, scores)\n",
        "    plt.yticks(width, ticks)\n",
        "    plt.title(\"Mutual Information Scores\")\n",
        "\n",
        "\n",
        "# train_data.drop(columns=['Survived'], inplace=True)\n",
        "mi_scores = make_mi_scores(train_data, y)\n",
        "train_data = train_data[mi_scores.index]\n",
        "sns.barplot(x=mi_scores, y=mi_scores.index)"
      ]
    },
    {
      "cell_type": "code",
      "execution_count": null,
      "metadata": {
        "id": "v7neYkmHbXI6"
      },
      "outputs": [],
      "source": [
        "from sklearn.linear_model import LogisticRegression\n",
        "\n",
        "model_LogReg = LogisticRegression(solver='liblinear')\n",
        "model_LogReg.fit(train_data, y)\n",
        "\n",
        "coefs=pd.DataFrame({'coefficient':model_LogReg.coef_[0]}, index = train_data.columns)\n",
        "\n",
        "coefs.sort_values('coefficient', key=abs, ascending=False,inplace=True)\n",
        "\n",
        "\n",
        "sns.barplot(y=coefs.index, x=coefs['coefficient'])\n",
        "\n",
        "print('intercept = ',model_LogReg.intercept_[0])"
      ]
    },
    {
      "cell_type": "code",
      "execution_count": null,
      "metadata": {
        "id": "Edn1Amybbg6t"
      },
      "outputs": [],
      "source": [
        "from sklearn.model_selection import train_test_split\n",
        "\n",
        "X_train, X_val, y_train, y_val= train_test_split(train_data, y, train_size=0.8, test_size=0.2,random_state=1,shuffle=True)"
      ]
    },
    {
      "cell_type": "code",
      "execution_count": null,
      "metadata": {
        "id": "h-teMBKCIEDf"
      },
      "outputs": [],
      "source": [
        "random.seed(100)\n",
        "np.random.seed(100)\n",
        "\n",
        "tree_clf = tree.DecisionTreeClassifier()\n",
        "tree_clf.fit(X_train.values, y_train.values)\n",
        "print(tree_clf.score(X_test.values, y_test.values))"
      ]
    },
    {
      "cell_type": "code",
      "execution_count": null,
      "metadata": {
        "id": "DquRa344IEDf"
      },
      "outputs": [],
      "source": [
        "random.seed(100)\n",
        "np.random.seed(100)\n",
        "\n",
        "knn_clf = neighbors.KNeighborsClassifier()\n",
        "knn_clf.fit(X_train.values, y_train.values)\n",
        "print(knn_clf.score(X_test.values, y_test.values))"
      ]
    },
    {
      "cell_type": "code",
      "execution_count": null,
      "metadata": {
        "id": "B62PFGEqIEDg"
      },
      "outputs": [],
      "source": [
        "random.seed(100)\n",
        "np.random.seed(100)\n",
        "\n",
        "NN_clf = neural_network.MLPClassifier()\n",
        "NN_clf.fit(X_train.values, y_train.values)\n",
        "print(NN_clf.score(X_test.values, y_test.values))"
      ]
    },
    {
      "cell_type": "code",
      "execution_count": null,
      "metadata": {
        "id": "b8N6Uxk2IEDg"
      },
      "outputs": [],
      "source": [
        "random.seed(100)\n",
        "np.random.seed(100)\n",
        "\n",
        "svm_clf = svm.SVC(kernel='linear')\n",
        "svm_clf.fit(X_train.values, y_train.values)\n",
        "print(svm_clf.score(X_test.values, y_test.values))\n",
        "y_pred = svm_clf.predict(X_test.values)\n",
        "y_truth = y_test.values"
      ]
    },
    {
      "cell_type": "code",
      "execution_count": null,
      "metadata": {
        "id": "axmJuCXKIEDg"
      },
      "outputs": [],
      "source": [
        "tn, fp, fn, tp = confusion_matrix(y_truth, y_pred).ravel()\n",
        "print(\"Confusion Matrix\")\n",
        "print(confusion_matrix(y_truth, y_pred, labels=[0, 1]))\n",
        "print(\"\")\n",
        "print(\"True Negatives\", tn)\n",
        "print(\"False Positives\", fp)\n",
        "print(\"False Negatives\", fn)\n",
        "print(\"True Positives\", tp)"
      ]
    },
    {
      "cell_type": "code",
      "execution_count": null,
      "metadata": {
        "id": "cSrDWrT1IEDg"
      },
      "outputs": [],
      "source": [
        "import itertools\n",
        "import matplotlib.pyplot as plt\n",
        "\n",
        "def plot_confusion_matrix(cm, classes,\n",
        "                          normalize=False,\n",
        "                          title='Confusion matrix',\n",
        "                          cmap=plt.cm.Blues):\n",
        "    \"\"\"\n",
        "    This function prints and plots the confusion matrix.\n",
        "    Normalization can be applied by setting `normalize=True`.\n",
        "    \"\"\"\n",
        "    if normalize:\n",
        "        cm = cm.astype('float') / cm.sum(axis=1)[:, np.newaxis]\n",
        "        print(\"Normalized confusion matrix\")\n",
        "    else:\n",
        "        print('Confusion matrix, without normalization')\n",
        "\n",
        "    print(cm)\n",
        "\n",
        "    plt.imshow(cm, interpolation='nearest', cmap=cmap)\n",
        "    plt.title(title)\n",
        "    plt.colorbar()\n",
        "    tick_marks = np.arange(len(classes))\n",
        "    plt.xticks(tick_marks, classes, rotation=45)\n",
        "    plt.yticks(tick_marks, classes)\n",
        "\n",
        "    fmt = '.2f' if normalize else 'd'\n",
        "    thresh = cm.max() / 2.\n",
        "    for i, j in itertools.product(range(cm.shape[0]), range(cm.shape[1])):\n",
        "        plt.text(j, i, format(cm[i, j], fmt),\n",
        "                 horizontalalignment=\"center\",\n",
        "                 color=\"white\" if cm[i, j] > thresh else \"black\")\n",
        "\n",
        "    plt.ylabel('True label')\n",
        "    plt.xlabel('Predicted label')\n",
        "    plt.tight_layout()\n",
        "\n",
        "\n",
        "# Compute confusion matrix\n",
        "cnf_matrix = confusion_matrix(y_truth, y_pred)\n",
        "class_names=['0', '1']\n",
        "np.set_printoptions(precision=2)\n",
        "\n",
        "# Plot non-normalized confusion matrix\n",
        "plt.figure()\n",
        "plot_confusion_matrix(cnf_matrix, classes=class_names,\n",
        "                      title='Confusion matrix, without normalization')\n",
        "\n",
        "plt.show()"
      ]
    },
    {
      "cell_type": "code",
      "execution_count": null,
      "metadata": {
        "id": "vQTGPnOLIEDg"
      },
      "outputs": [],
      "source": [
        "predictions = svm_clf.predict(test_data.values)"
      ]
    },
    {
      "cell_type": "code",
      "execution_count": null,
      "metadata": {
        "id": "-FnF2hjRIEDg"
      },
      "outputs": [],
      "source": [
        "type(predictions)"
      ]
    },
    {
      "cell_type": "code",
      "execution_count": null,
      "metadata": {
        "id": "h07CGOkKIEDg"
      },
      "outputs": [],
      "source": [
        "predictions"
      ]
    },
    {
      "cell_type": "code",
      "execution_count": null,
      "metadata": {
        "id": "JbyJqbXbIEDg"
      },
      "outputs": [],
      "source": [
        "pred_df = pd.DataFrame(predictions, index=test_data.index, columns=['Survived'])\n",
        "type(pred_df)"
      ]
    },
    {
      "cell_type": "code",
      "execution_count": null,
      "metadata": {
        "id": "FiiqF8rQIEDg"
      },
      "outputs": [],
      "source": [
        "pred_df"
      ]
    },
    {
      "cell_type": "code",
      "execution_count": null,
      "metadata": {
        "id": "44BQj8L1IEDg"
      },
      "outputs": [],
      "source": [
        "pred_df.to_csv('predictions.csv', header=True, sep=',')"
      ]
    },
    {
      "cell_type": "code",
      "execution_count": null,
      "metadata": {
        "id": "KcphYZzGIEDg"
      },
      "outputs": [],
      "source": []
    },
    {
      "cell_type": "code",
      "execution_count": null,
      "metadata": {
        "id": "dD5MputkIEDg"
      },
      "outputs": [],
      "source": []
    }
  ],
  "metadata": {
    "colab": {
      "provenance": []
    },
    "kernelspec": {
      "display_name": "Python 3 (ipykernel)",
      "language": "python",
      "name": "python3"
    },
    "language_info": {
      "codemirror_mode": {
        "name": "ipython",
        "version": 3
      },
      "file_extension": ".py",
      "mimetype": "text/x-python",
      "name": "python",
      "nbconvert_exporter": "python",
      "pygments_lexer": "ipython3",
      "version": "3.12.6"
    }
  },
  "nbformat": 4,
  "nbformat_minor": 0
}